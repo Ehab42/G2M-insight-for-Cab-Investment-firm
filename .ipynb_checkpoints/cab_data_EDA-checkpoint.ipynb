{
 "cells": [
  {
   "cell_type": "code",
   "execution_count": 62,
   "id": "10e555f2",
   "metadata": {},
   "outputs": [],
   "source": [
    "import numpy as np\n",
    "import pandas as pd\n",
    "import matplotlib.pyplot as plt\n",
    "import seaborn as sns\n",
    "import warnings\n",
    "from datetime import datetime, timedelta\n",
    "warnings.filterwarnings('ignore')\n",
    "# %run city_EDA.ipynb"
   ]
  },
  {
   "cell_type": "code",
   "execution_count": 63,
   "id": "832c48d3",
   "metadata": {},
   "outputs": [],
   "source": [
    "#load the datasets\n",
    "cab_data = pd.read_csv('./DataSets/Cab_Data.csv')"
   ]
  },
  {
   "cell_type": "code",
   "execution_count": 64,
   "id": "e725780b",
   "metadata": {
    "tags": []
   },
   "outputs": [
    {
     "data": {
      "text/html": [
       "<div>\n",
       "<style scoped>\n",
       "    .dataframe tbody tr th:only-of-type {\n",
       "        vertical-align: middle;\n",
       "    }\n",
       "\n",
       "    .dataframe tbody tr th {\n",
       "        vertical-align: top;\n",
       "    }\n",
       "\n",
       "    .dataframe thead th {\n",
       "        text-align: right;\n",
       "    }\n",
       "</style>\n",
       "<table border=\"1\" class=\"dataframe\">\n",
       "  <thead>\n",
       "    <tr style=\"text-align: right;\">\n",
       "      <th></th>\n",
       "      <th>Transaction ID</th>\n",
       "      <th>Date of Travel</th>\n",
       "      <th>Company</th>\n",
       "      <th>City</th>\n",
       "      <th>KM Travelled</th>\n",
       "      <th>Price Charged</th>\n",
       "      <th>Cost of Trip</th>\n",
       "    </tr>\n",
       "  </thead>\n",
       "  <tbody>\n",
       "    <tr>\n",
       "      <th>0</th>\n",
       "      <td>10000011</td>\n",
       "      <td>42377</td>\n",
       "      <td>Pink Cab</td>\n",
       "      <td>ATLANTA GA</td>\n",
       "      <td>30.45</td>\n",
       "      <td>370.95</td>\n",
       "      <td>313.635</td>\n",
       "    </tr>\n",
       "    <tr>\n",
       "      <th>1</th>\n",
       "      <td>10000012</td>\n",
       "      <td>42375</td>\n",
       "      <td>Pink Cab</td>\n",
       "      <td>ATLANTA GA</td>\n",
       "      <td>28.62</td>\n",
       "      <td>358.52</td>\n",
       "      <td>334.854</td>\n",
       "    </tr>\n",
       "    <tr>\n",
       "      <th>2</th>\n",
       "      <td>10000013</td>\n",
       "      <td>42371</td>\n",
       "      <td>Pink Cab</td>\n",
       "      <td>ATLANTA GA</td>\n",
       "      <td>9.04</td>\n",
       "      <td>125.20</td>\n",
       "      <td>97.632</td>\n",
       "    </tr>\n",
       "    <tr>\n",
       "      <th>3</th>\n",
       "      <td>10000014</td>\n",
       "      <td>42376</td>\n",
       "      <td>Pink Cab</td>\n",
       "      <td>ATLANTA GA</td>\n",
       "      <td>33.17</td>\n",
       "      <td>377.40</td>\n",
       "      <td>351.602</td>\n",
       "    </tr>\n",
       "    <tr>\n",
       "      <th>4</th>\n",
       "      <td>10000015</td>\n",
       "      <td>42372</td>\n",
       "      <td>Pink Cab</td>\n",
       "      <td>ATLANTA GA</td>\n",
       "      <td>8.73</td>\n",
       "      <td>114.62</td>\n",
       "      <td>97.776</td>\n",
       "    </tr>\n",
       "    <tr>\n",
       "      <th>5</th>\n",
       "      <td>10000016</td>\n",
       "      <td>42376</td>\n",
       "      <td>Pink Cab</td>\n",
       "      <td>ATLANTA GA</td>\n",
       "      <td>6.06</td>\n",
       "      <td>72.43</td>\n",
       "      <td>63.024</td>\n",
       "    </tr>\n",
       "    <tr>\n",
       "      <th>6</th>\n",
       "      <td>10000017</td>\n",
       "      <td>42372</td>\n",
       "      <td>Pink Cab</td>\n",
       "      <td>AUSTIN TX</td>\n",
       "      <td>44.00</td>\n",
       "      <td>576.15</td>\n",
       "      <td>475.200</td>\n",
       "    </tr>\n",
       "    <tr>\n",
       "      <th>7</th>\n",
       "      <td>10000018</td>\n",
       "      <td>42376</td>\n",
       "      <td>Pink Cab</td>\n",
       "      <td>AUSTIN TX</td>\n",
       "      <td>35.65</td>\n",
       "      <td>466.10</td>\n",
       "      <td>377.890</td>\n",
       "    </tr>\n",
       "    <tr>\n",
       "      <th>8</th>\n",
       "      <td>10000019</td>\n",
       "      <td>42381</td>\n",
       "      <td>Pink Cab</td>\n",
       "      <td>BOSTON MA</td>\n",
       "      <td>14.40</td>\n",
       "      <td>191.61</td>\n",
       "      <td>146.880</td>\n",
       "    </tr>\n",
       "    <tr>\n",
       "      <th>9</th>\n",
       "      <td>10000020</td>\n",
       "      <td>42375</td>\n",
       "      <td>Pink Cab</td>\n",
       "      <td>BOSTON MA</td>\n",
       "      <td>10.89</td>\n",
       "      <td>156.98</td>\n",
       "      <td>113.256</td>\n",
       "    </tr>\n",
       "  </tbody>\n",
       "</table>\n",
       "</div>"
      ],
      "text/plain": [
       "   Transaction ID  Date of Travel   Company        City  KM Travelled  \\\n",
       "0        10000011           42377  Pink Cab  ATLANTA GA         30.45   \n",
       "1        10000012           42375  Pink Cab  ATLANTA GA         28.62   \n",
       "2        10000013           42371  Pink Cab  ATLANTA GA          9.04   \n",
       "3        10000014           42376  Pink Cab  ATLANTA GA         33.17   \n",
       "4        10000015           42372  Pink Cab  ATLANTA GA          8.73   \n",
       "5        10000016           42376  Pink Cab  ATLANTA GA          6.06   \n",
       "6        10000017           42372  Pink Cab   AUSTIN TX         44.00   \n",
       "7        10000018           42376  Pink Cab   AUSTIN TX         35.65   \n",
       "8        10000019           42381  Pink Cab   BOSTON MA         14.40   \n",
       "9        10000020           42375  Pink Cab   BOSTON MA         10.89   \n",
       "\n",
       "   Price Charged  Cost of Trip  \n",
       "0         370.95       313.635  \n",
       "1         358.52       334.854  \n",
       "2         125.20        97.632  \n",
       "3         377.40       351.602  \n",
       "4         114.62        97.776  \n",
       "5          72.43        63.024  \n",
       "6         576.15       475.200  \n",
       "7         466.10       377.890  \n",
       "8         191.61       146.880  \n",
       "9         156.98       113.256  "
      ]
     },
     "execution_count": 64,
     "metadata": {},
     "output_type": "execute_result"
    }
   ],
   "source": [
    "#Investigate cab_data dataset\n",
    "cab_data.head(10)"
   ]
  },
  {
   "cell_type": "code",
   "execution_count": 65,
   "id": "b3373377",
   "metadata": {},
   "outputs": [],
   "source": [
    "# Convert 'Date of Travel' to the right format\n",
    "def convert_date(n):\n",
    "    start_date = datetime(1899, 12, 30)\n",
    "    current_date = start_date + timedelta(days = int(n))\n",
    "    \n",
    "    return current_date\n",
    "\n",
    "cab_data['Date of Travel'] = cab_data['Date of Travel'].apply(lambda x: convert_date(x))"
   ]
  },
  {
   "cell_type": "code",
   "execution_count": 8,
   "id": "04b55158",
   "metadata": {},
   "outputs": [
    {
     "data": {
      "text/html": [
       "<div>\n",
       "<style scoped>\n",
       "    .dataframe tbody tr th:only-of-type {\n",
       "        vertical-align: middle;\n",
       "    }\n",
       "\n",
       "    .dataframe tbody tr th {\n",
       "        vertical-align: top;\n",
       "    }\n",
       "\n",
       "    .dataframe thead th {\n",
       "        text-align: right;\n",
       "    }\n",
       "</style>\n",
       "<table border=\"1\" class=\"dataframe\">\n",
       "  <thead>\n",
       "    <tr style=\"text-align: right;\">\n",
       "      <th></th>\n",
       "      <th>Transaction ID</th>\n",
       "      <th>Date of Travel</th>\n",
       "      <th>Company</th>\n",
       "      <th>City</th>\n",
       "      <th>KM Travelled</th>\n",
       "      <th>Price Charged</th>\n",
       "      <th>Cost of Trip</th>\n",
       "    </tr>\n",
       "  </thead>\n",
       "  <tbody>\n",
       "    <tr>\n",
       "      <th>0</th>\n",
       "      <td>10000011</td>\n",
       "      <td>2016-01-08</td>\n",
       "      <td>Pink Cab</td>\n",
       "      <td>ATLANTA GA</td>\n",
       "      <td>30.45</td>\n",
       "      <td>370.95</td>\n",
       "      <td>313.635</td>\n",
       "    </tr>\n",
       "    <tr>\n",
       "      <th>1</th>\n",
       "      <td>10000012</td>\n",
       "      <td>2016-01-06</td>\n",
       "      <td>Pink Cab</td>\n",
       "      <td>ATLANTA GA</td>\n",
       "      <td>28.62</td>\n",
       "      <td>358.52</td>\n",
       "      <td>334.854</td>\n",
       "    </tr>\n",
       "    <tr>\n",
       "      <th>2</th>\n",
       "      <td>10000013</td>\n",
       "      <td>2016-01-02</td>\n",
       "      <td>Pink Cab</td>\n",
       "      <td>ATLANTA GA</td>\n",
       "      <td>9.04</td>\n",
       "      <td>125.20</td>\n",
       "      <td>97.632</td>\n",
       "    </tr>\n",
       "    <tr>\n",
       "      <th>3</th>\n",
       "      <td>10000014</td>\n",
       "      <td>2016-01-07</td>\n",
       "      <td>Pink Cab</td>\n",
       "      <td>ATLANTA GA</td>\n",
       "      <td>33.17</td>\n",
       "      <td>377.40</td>\n",
       "      <td>351.602</td>\n",
       "    </tr>\n",
       "    <tr>\n",
       "      <th>4</th>\n",
       "      <td>10000015</td>\n",
       "      <td>2016-01-03</td>\n",
       "      <td>Pink Cab</td>\n",
       "      <td>ATLANTA GA</td>\n",
       "      <td>8.73</td>\n",
       "      <td>114.62</td>\n",
       "      <td>97.776</td>\n",
       "    </tr>\n",
       "    <tr>\n",
       "      <th>5</th>\n",
       "      <td>10000016</td>\n",
       "      <td>2016-01-07</td>\n",
       "      <td>Pink Cab</td>\n",
       "      <td>ATLANTA GA</td>\n",
       "      <td>6.06</td>\n",
       "      <td>72.43</td>\n",
       "      <td>63.024</td>\n",
       "    </tr>\n",
       "    <tr>\n",
       "      <th>6</th>\n",
       "      <td>10000017</td>\n",
       "      <td>2016-01-03</td>\n",
       "      <td>Pink Cab</td>\n",
       "      <td>AUSTIN TX</td>\n",
       "      <td>44.00</td>\n",
       "      <td>576.15</td>\n",
       "      <td>475.200</td>\n",
       "    </tr>\n",
       "    <tr>\n",
       "      <th>7</th>\n",
       "      <td>10000018</td>\n",
       "      <td>2016-01-07</td>\n",
       "      <td>Pink Cab</td>\n",
       "      <td>AUSTIN TX</td>\n",
       "      <td>35.65</td>\n",
       "      <td>466.10</td>\n",
       "      <td>377.890</td>\n",
       "    </tr>\n",
       "    <tr>\n",
       "      <th>8</th>\n",
       "      <td>10000019</td>\n",
       "      <td>2016-01-12</td>\n",
       "      <td>Pink Cab</td>\n",
       "      <td>BOSTON MA</td>\n",
       "      <td>14.40</td>\n",
       "      <td>191.61</td>\n",
       "      <td>146.880</td>\n",
       "    </tr>\n",
       "    <tr>\n",
       "      <th>9</th>\n",
       "      <td>10000020</td>\n",
       "      <td>2016-01-06</td>\n",
       "      <td>Pink Cab</td>\n",
       "      <td>BOSTON MA</td>\n",
       "      <td>10.89</td>\n",
       "      <td>156.98</td>\n",
       "      <td>113.256</td>\n",
       "    </tr>\n",
       "  </tbody>\n",
       "</table>\n",
       "</div>"
      ],
      "text/plain": [
       "   Transaction ID Date of Travel   Company        City  KM Travelled  \\\n",
       "0        10000011     2016-01-08  Pink Cab  ATLANTA GA         30.45   \n",
       "1        10000012     2016-01-06  Pink Cab  ATLANTA GA         28.62   \n",
       "2        10000013     2016-01-02  Pink Cab  ATLANTA GA          9.04   \n",
       "3        10000014     2016-01-07  Pink Cab  ATLANTA GA         33.17   \n",
       "4        10000015     2016-01-03  Pink Cab  ATLANTA GA          8.73   \n",
       "5        10000016     2016-01-07  Pink Cab  ATLANTA GA          6.06   \n",
       "6        10000017     2016-01-03  Pink Cab   AUSTIN TX         44.00   \n",
       "7        10000018     2016-01-07  Pink Cab   AUSTIN TX         35.65   \n",
       "8        10000019     2016-01-12  Pink Cab   BOSTON MA         14.40   \n",
       "9        10000020     2016-01-06  Pink Cab   BOSTON MA         10.89   \n",
       "\n",
       "   Price Charged  Cost of Trip  \n",
       "0         370.95       313.635  \n",
       "1         358.52       334.854  \n",
       "2         125.20        97.632  \n",
       "3         377.40       351.602  \n",
       "4         114.62        97.776  \n",
       "5          72.43        63.024  \n",
       "6         576.15       475.200  \n",
       "7         466.10       377.890  \n",
       "8         191.61       146.880  \n",
       "9         156.98       113.256  "
      ]
     },
     "execution_count": 8,
     "metadata": {},
     "output_type": "execute_result"
    }
   ],
   "source": [
    "cab_data.head(10)"
   ]
  },
  {
   "cell_type": "code",
   "execution_count": 7,
   "id": "0a70cca7",
   "metadata": {},
   "outputs": [
    {
     "data": {
      "text/plain": [
       "(359392, 7)"
      ]
     },
     "execution_count": 7,
     "metadata": {},
     "output_type": "execute_result"
    }
   ],
   "source": [
    "cab_data.shape"
   ]
  },
  {
   "cell_type": "code",
   "execution_count": 8,
   "id": "894cb871",
   "metadata": {},
   "outputs": [
    {
     "data": {
      "text/html": [
       "<div>\n",
       "<style scoped>\n",
       "    .dataframe tbody tr th:only-of-type {\n",
       "        vertical-align: middle;\n",
       "    }\n",
       "\n",
       "    .dataframe tbody tr th {\n",
       "        vertical-align: top;\n",
       "    }\n",
       "\n",
       "    .dataframe thead th {\n",
       "        text-align: right;\n",
       "    }\n",
       "</style>\n",
       "<table border=\"1\" class=\"dataframe\">\n",
       "  <thead>\n",
       "    <tr style=\"text-align: right;\">\n",
       "      <th></th>\n",
       "      <th>Transaction ID</th>\n",
       "      <th>KM Travelled</th>\n",
       "      <th>Price Charged</th>\n",
       "      <th>Cost of Trip</th>\n",
       "    </tr>\n",
       "  </thead>\n",
       "  <tbody>\n",
       "    <tr>\n",
       "      <th>count</th>\n",
       "      <td>3.593920e+05</td>\n",
       "      <td>359392.000000</td>\n",
       "      <td>359392.000000</td>\n",
       "      <td>359392.000000</td>\n",
       "    </tr>\n",
       "    <tr>\n",
       "      <th>mean</th>\n",
       "      <td>1.022076e+07</td>\n",
       "      <td>22.567254</td>\n",
       "      <td>423.443311</td>\n",
       "      <td>286.190113</td>\n",
       "    </tr>\n",
       "    <tr>\n",
       "      <th>std</th>\n",
       "      <td>1.268058e+05</td>\n",
       "      <td>12.233526</td>\n",
       "      <td>274.378911</td>\n",
       "      <td>157.993661</td>\n",
       "    </tr>\n",
       "    <tr>\n",
       "      <th>min</th>\n",
       "      <td>1.000001e+07</td>\n",
       "      <td>1.900000</td>\n",
       "      <td>15.600000</td>\n",
       "      <td>19.000000</td>\n",
       "    </tr>\n",
       "    <tr>\n",
       "      <th>25%</th>\n",
       "      <td>1.011081e+07</td>\n",
       "      <td>12.000000</td>\n",
       "      <td>206.437500</td>\n",
       "      <td>151.200000</td>\n",
       "    </tr>\n",
       "    <tr>\n",
       "      <th>50%</th>\n",
       "      <td>1.022104e+07</td>\n",
       "      <td>22.440000</td>\n",
       "      <td>386.360000</td>\n",
       "      <td>282.480000</td>\n",
       "    </tr>\n",
       "    <tr>\n",
       "      <th>75%</th>\n",
       "      <td>1.033094e+07</td>\n",
       "      <td>32.960000</td>\n",
       "      <td>583.660000</td>\n",
       "      <td>413.683200</td>\n",
       "    </tr>\n",
       "    <tr>\n",
       "      <th>max</th>\n",
       "      <td>1.044011e+07</td>\n",
       "      <td>48.000000</td>\n",
       "      <td>2048.030000</td>\n",
       "      <td>691.200000</td>\n",
       "    </tr>\n",
       "  </tbody>\n",
       "</table>\n",
       "</div>"
      ],
      "text/plain": [
       "       Transaction ID   KM Travelled  Price Charged   Cost of Trip\n",
       "count    3.593920e+05  359392.000000  359392.000000  359392.000000\n",
       "mean     1.022076e+07      22.567254     423.443311     286.190113\n",
       "std      1.268058e+05      12.233526     274.378911     157.993661\n",
       "min      1.000001e+07       1.900000      15.600000      19.000000\n",
       "25%      1.011081e+07      12.000000     206.437500     151.200000\n",
       "50%      1.022104e+07      22.440000     386.360000     282.480000\n",
       "75%      1.033094e+07      32.960000     583.660000     413.683200\n",
       "max      1.044011e+07      48.000000    2048.030000     691.200000"
      ]
     },
     "execution_count": 8,
     "metadata": {},
     "output_type": "execute_result"
    }
   ],
   "source": [
    "cab_data.describe()"
   ]
  },
  {
   "cell_type": "code",
   "execution_count": 9,
   "id": "a4dcdd6a",
   "metadata": {},
   "outputs": [
    {
     "data": {
      "text/plain": [
       "Index(['Transaction ID', 'Date of Travel', 'Company', 'City', 'KM Travelled',\n",
       "       'Price Charged', 'Cost of Trip'],\n",
       "      dtype='object')"
      ]
     },
     "execution_count": 9,
     "metadata": {},
     "output_type": "execute_result"
    }
   ],
   "source": [
    "cab_data.columns"
   ]
  },
  {
   "cell_type": "code",
   "execution_count": 10,
   "id": "4a477ad8-641a-4676-9ad7-b0c97ab1a6e7",
   "metadata": {},
   "outputs": [
    {
     "name": "stdout",
     "output_type": "stream",
     "text": [
      "<class 'pandas.core.frame.DataFrame'>\n",
      "RangeIndex: 359392 entries, 0 to 359391\n",
      "Data columns (total 7 columns):\n",
      " #   Column          Non-Null Count   Dtype         \n",
      "---  ------          --------------   -----         \n",
      " 0   Transaction ID  359392 non-null  int64         \n",
      " 1   Date of Travel  359392 non-null  datetime64[ns]\n",
      " 2   Company         359392 non-null  object        \n",
      " 3   City            359392 non-null  object        \n",
      " 4   KM Travelled    359392 non-null  float64       \n",
      " 5   Price Charged   359392 non-null  float64       \n",
      " 6   Cost of Trip    359392 non-null  float64       \n",
      "dtypes: datetime64[ns](1), float64(3), int64(1), object(2)\n",
      "memory usage: 19.2+ MB\n"
     ]
    }
   ],
   "source": [
    "cab_data.info()"
   ]
  },
  {
   "cell_type": "code",
   "execution_count": 11,
   "id": "651da395",
   "metadata": {},
   "outputs": [
    {
     "data": {
      "text/plain": [
       "Transaction ID    359392\n",
       "Date of Travel      1095\n",
       "Company                2\n",
       "City                  19\n",
       "KM Travelled         874\n",
       "Price Charged      99176\n",
       "Cost of Trip       16291\n",
       "dtype: int64"
      ]
     },
     "execution_count": 11,
     "metadata": {},
     "output_type": "execute_result"
    }
   ],
   "source": [
    "cab_data.nunique()"
   ]
  },
  {
   "cell_type": "code",
   "execution_count": 12,
   "id": "17029990",
   "metadata": {},
   "outputs": [
    {
     "data": {
      "text/plain": [
       "array(['Pink Cab', 'Yellow Cab'], dtype=object)"
      ]
     },
     "execution_count": 12,
     "metadata": {},
     "output_type": "execute_result"
    }
   ],
   "source": [
    "cab_data['Company'].unique()"
   ]
  },
  {
   "cell_type": "code",
   "execution_count": 13,
   "id": "ca3cdd37",
   "metadata": {},
   "outputs": [
    {
     "data": {
      "text/plain": [
       "array(['ATLANTA GA', 'AUSTIN TX', 'BOSTON MA', 'CHICAGO IL', 'DALLAS TX',\n",
       "       'DENVER CO', 'LOS ANGELES CA', 'MIAMI FL', 'NASHVILLE TN',\n",
       "       'NEW YORK NY', 'ORANGE COUNTY', 'PHOENIX AZ', 'PITTSBURGH PA',\n",
       "       'SACRAMENTO CA', 'SAN DIEGO CA', 'SEATTLE WA', 'SILICON VALLEY',\n",
       "       'TUCSON AZ', 'WASHINGTON DC'], dtype=object)"
      ]
     },
     "execution_count": 13,
     "metadata": {},
     "output_type": "execute_result"
    }
   ],
   "source": [
    "cab_data['City'].unique() "
   ]
  },
  {
   "cell_type": "markdown",
   "id": "02a9604e-bb88-4127-849a-a1f76b5b3eda",
   "metadata": {},
   "source": [
    "---\n",
    "### First: Over the span of nearly three years: what is the number of rides of yellow cab and pink cab companies"
   ]
  },
  {
   "cell_type": "code",
   "execution_count": 9,
   "id": "242b29c0-cb25-49ae-97a4-1c2e1475bbff",
   "metadata": {},
   "outputs": [
    {
     "data": {
      "text/plain": [
       "Yellow Cab    274681\n",
       "Pink Cab       84711\n",
       "Name: Company, dtype: int64"
      ]
     },
     "execution_count": 9,
     "metadata": {},
     "output_type": "execute_result"
    }
   ],
   "source": [
    "# number of cab drives of yellow vs pink cab\n",
    "cab_data['Company'].value_counts()"
   ]
  },
  {
   "cell_type": "code",
   "execution_count": 34,
   "id": "9ca38020-8f18-45e9-b79f-7ea3b3177561",
   "metadata": {},
   "outputs": [
    {
     "data": {
      "image/png": "[encoded data removed]",
      "text/plain": [
       "<Figure size 648x288 with 1 Axes>"
      ]
     },
     "metadata": {
      "needs_background": "light"
     },
     "output_type": "display_data"
    }
   ],
   "source": [
    "# Number of pink cab rides to yellow cab rides visualized.\n",
    "plt.figure(figsize=(9, 4))\n",
    "cab_data['Company'].value_counts().plot(kind='bar', color=['Yellow', 'Pink'])\n",
    "plt.title(\"Number of yellow cab rides to pink cab riders over three years\");\n",
    "plt.xlabel(\"Company\")\n",
    "plt.ylabel(\"Number of rides\");"
   ]
  },
  {
   "cell_type": "markdown",
   "id": "6fe76b6c-8c3b-4270-9d3f-1088e8e4c1b8",
   "metadata": {},
   "source": [
    "---\n",
    "#### So as observed, number of yellow cab drives in the span of nearly three years is nearly 3 times more that pink cab drives\n",
    "### Now: In the span of the same period of time, what is the profit comparison between the two companies."
   ]
  },
  {
   "cell_type": "code",
   "execution_count": 19,
   "id": "8202fd47-5f0c-4191-909b-ec992f78fa36",
   "metadata": {},
   "outputs": [],
   "source": [
    "# Average price grouped by cab company\n",
    "cab_data_grouped = cab_data[['KM Travelled', 'Price Charged', 'Cost of Trip', 'Company']].groupby('Company').sum().reset_index()"
   ]
  },
  {
   "cell_type": "code",
   "execution_count": 20,
   "id": "05bbb438-4fb2-4d26-aa28-158e191cd940",
   "metadata": {},
   "outputs": [
    {
     "data": {
      "text/html": [
       "<div>\n",
       "<style scoped>\n",
       "    .dataframe tbody tr th:only-of-type {\n",
       "        vertical-align: middle;\n",
       "    }\n",
       "\n",
       "    .dataframe tbody tr th {\n",
       "        vertical-align: top;\n",
       "    }\n",
       "\n",
       "    .dataframe thead th {\n",
       "        text-align: right;\n",
       "    }\n",
       "</style>\n",
       "<table border=\"1\" class=\"dataframe\">\n",
       "  <thead>\n",
       "    <tr style=\"text-align: right;\">\n",
       "      <th></th>\n",
       "      <th>Company</th>\n",
       "      <th>KM Travelled</th>\n",
       "      <th>Price Charged</th>\n",
       "      <th>Cost of Trip</th>\n",
       "    </tr>\n",
       "  </thead>\n",
       "  <tbody>\n",
       "    <tr>\n",
       "      <th>0</th>\n",
       "      <td>Pink Cab</td>\n",
       "      <td>1911073.11</td>\n",
       "      <td>2.632825e+07</td>\n",
       "      <td>2.102092e+07</td>\n",
       "    </tr>\n",
       "    <tr>\n",
       "      <th>1</th>\n",
       "      <td>Yellow Cab</td>\n",
       "      <td>6199417.47</td>\n",
       "      <td>1.258539e+08</td>\n",
       "      <td>8.183351e+07</td>\n",
       "    </tr>\n",
       "  </tbody>\n",
       "</table>\n",
       "</div>"
      ],
      "text/plain": [
       "      Company  KM Travelled  Price Charged  Cost of Trip\n",
       "0    Pink Cab    1911073.11   2.632825e+07  2.102092e+07\n",
       "1  Yellow Cab    6199417.47   1.258539e+08  8.183351e+07"
      ]
     },
     "execution_count": 20,
     "metadata": {},
     "output_type": "execute_result"
    }
   ],
   "source": [
    "cab_data_grouped"
   ]
  },
  {
   "cell_type": "code",
   "execution_count": 18,
   "id": "2b703018-3ffb-4418-b245-3b08cdb8fa7f",
   "metadata": {},
   "outputs": [
    {
     "data": {
      "text/plain": [
       "99525635.86000037"
      ]
     },
     "execution_count": 18,
     "metadata": {},
     "output_type": "execute_result"
    }
   ],
   "source": [
    "# Revenue difference between yellow cab company and pink cab company\n",
    "cab_data_grouped.iloc[1]['Price Charged'] - cab_data_grouped.iloc[0]['Price Charged']  "
   ]
  },
  {
   "cell_type": "code",
   "execution_count": 33,
   "id": "408641a6-bbfb-40d0-b2aa-8c4ee0c6383d",
   "metadata": {},
   "outputs": [
    {
     "data": {
      "image/png": "[encoded data removed]",
      "text/plain": [
       "<Figure size 648x288 with 1 Axes>"
      ]
     },
     "metadata": {
      "needs_background": "light"
     },
     "output_type": "display_data"
    }
   ],
   "source": [
    "# difference in revenue visualized\n",
    "plt.figure(figsize=(9, 4))\n",
    "plt.bar(data=cab_data_grouped, x='Company', height='Price Charged', color=['Pink', 'Yellow'])\n",
    "plt.xticks(rotation = 90)\n",
    "plt.title(\"Revenue of Yellow Cab vs Pink Cab Companies over three years\")\n",
    "plt.xlabel(\"Company\")\n",
    "plt.ylabel(\"Revenue in 100M\")\n",
    "plt.gca().invert_xaxis()\n",
    "plt.show();"
   ]
  },
  {
   "cell_type": "code",
   "execution_count": 22,
   "id": "56b5b2c8-23b8-4e58-a330-b4e54192efe6",
   "metadata": {},
   "outputs": [],
   "source": [
    "cab_data_grouped.reset_index(inplace=True)"
   ]
  },
  {
   "cell_type": "markdown",
   "id": "1ade1910-eca8-4605-832d-d70e5a2b2998",
   "metadata": {},
   "source": [
    "#### So as observed: Yellow Cab Company made nearly 100 million dollars in revenue more than Pink Cab Company over the span of three years\n",
    "---\n",
    "\n",
    "#### Now: lets see the performance year wise: 2016, 2017 and 2018, to see the rate of growth in terms of Revenue and Km travelled."
   ]
  },
  {
   "cell_type": "code",
   "execution_count": 89,
   "id": "8acd9d21-3218-42f2-a11c-9d1c052253bd",
   "metadata": {},
   "outputs": [],
   "source": [
    "# Group the data by each company and year\n",
    "cab_data_yearly_grouped = cab_data.groupby(['Company', cab_data['Date of Travel'].dt.year]).sum().drop('Transaction ID', axis=1)"
   ]
  },
  {
   "cell_type": "code",
   "execution_count": 90,
   "id": "1ef7cba0-8585-4825-8562-5be6107288fb",
   "metadata": {},
   "outputs": [
    {
     "data": {
      "text/html": [
       "<div>\n",
       "<style scoped>\n",
       "    .dataframe tbody tr th:only-of-type {\n",
       "        vertical-align: middle;\n",
       "    }\n",
       "\n",
       "    .dataframe tbody tr th {\n",
       "        vertical-align: top;\n",
       "    }\n",
       "\n",
       "    .dataframe thead th {\n",
       "        text-align: right;\n",
       "    }\n",
       "</style>\n",
       "<table border=\"1\" class=\"dataframe\">\n",
       "  <thead>\n",
       "    <tr style=\"text-align: right;\">\n",
       "      <th></th>\n",
       "      <th></th>\n",
       "      <th>KM Travelled</th>\n",
       "      <th>Price Charged</th>\n",
       "      <th>Cost of Trip</th>\n",
       "    </tr>\n",
       "    <tr>\n",
       "      <th>Company</th>\n",
       "      <th>Date of Travel</th>\n",
       "      <th></th>\n",
       "      <th></th>\n",
       "      <th></th>\n",
       "    </tr>\n",
       "  </thead>\n",
       "  <tbody>\n",
       "    <tr>\n",
       "      <th rowspan=\"3\" valign=\"top\">Pink Cab</th>\n",
       "      <th>2016</th>\n",
       "      <td>563509.67</td>\n",
       "      <td>7.908479e+06</td>\n",
       "      <td>6.194968e+06</td>\n",
       "    </tr>\n",
       "    <tr>\n",
       "      <th>2017</th>\n",
       "      <td>685823.52</td>\n",
       "      <td>9.578630e+06</td>\n",
       "      <td>7.544975e+06</td>\n",
       "    </tr>\n",
       "    <tr>\n",
       "      <th>2018</th>\n",
       "      <td>661739.92</td>\n",
       "      <td>8.841143e+06</td>\n",
       "      <td>7.280980e+06</td>\n",
       "    </tr>\n",
       "    <tr>\n",
       "      <th rowspan=\"3\" valign=\"top\">Yellow Cab</th>\n",
       "      <th>2016</th>\n",
       "      <td>1859978.21</td>\n",
       "      <td>3.848113e+07</td>\n",
       "      <td>2.455414e+07</td>\n",
       "    </tr>\n",
       "    <tr>\n",
       "      <th>2017</th>\n",
       "      <td>2214879.02</td>\n",
       "      <td>4.581891e+07</td>\n",
       "      <td>2.924293e+07</td>\n",
       "    </tr>\n",
       "    <tr>\n",
       "      <th>2018</th>\n",
       "      <td>2124560.24</td>\n",
       "      <td>4.155384e+07</td>\n",
       "      <td>2.803644e+07</td>\n",
       "    </tr>\n",
       "  </tbody>\n",
       "</table>\n",
       "</div>"
      ],
      "text/plain": [
       "                           KM Travelled  Price Charged  Cost of Trip\n",
       "Company    Date of Travel                                           \n",
       "Pink Cab   2016               563509.67   7.908479e+06  6.194968e+06\n",
       "           2017               685823.52   9.578630e+06  7.544975e+06\n",
       "           2018               661739.92   8.841143e+06  7.280980e+06\n",
       "Yellow Cab 2016              1859978.21   3.848113e+07  2.455414e+07\n",
       "           2017              2214879.02   4.581891e+07  2.924293e+07\n",
       "           2018              2124560.24   4.155384e+07  2.803644e+07"
      ]
     },
     "execution_count": 90,
     "metadata": {},
     "output_type": "execute_result"
    }
   ],
   "source": [
    "cab_data_yearly_grouped"
   ]
  },
  {
   "cell_type": "code",
   "execution_count": 66,
   "id": "ab273162-d019-4660-ad11-0d16185ddec3",
   "metadata": {},
   "outputs": [
    {
     "data": {
      "image/png": "[encoded data removed]",
      "text/plain": [
       "<Figure size 648x288 with 1 Axes>"
      ]
     },
     "metadata": {
      "needs_background": "light"
     },
     "output_type": "display_data"
    }
   ],
   "source": [
    "# Plot Kilometers travelled yearly comparison between yellow company and pink company\n",
    "cab_data_yearly_grouped['KM Travelled'].unstack().plot(kind='bar');\n",
    "plt.title(\"Yearly Comparison of # of kilometer travelled\")\n",
    "plt.ylabel(\"# of Kilometers travelled in millions\")\n",
    "plt.gcf().set_size_inches(9, 4)\n",
    "plt.gca().invert_xaxis()\n",
    "plt.show()"
   ]
  },
  {
   "cell_type": "code",
   "execution_count": 69,
   "id": "ce3b6441-c9d0-41de-b8f0-c21727ce8b25",
   "metadata": {},
   "outputs": [
    {
     "data": {
      "image/png": "[encoded data removed]",
      "text/plain": [
       "<Figure size 648x288 with 1 Axes>"
      ]
     },
     "metadata": {
      "needs_background": "light"
     },
     "output_type": "display_data"
    }
   ],
   "source": [
    "# Plot Revenue yearly comparison between yellow company and pink company\n",
    "cab_data_yearly_grouped['Price Charged'].unstack().plot(kind='bar');\n",
    "plt.title(\"Yearly Comparison of Revenue\")\n",
    "plt.ylabel(\"Revenue in 10M\")\n",
    "plt.gcf().set_size_inches(9, 4)\n",
    "plt.gca().invert_xaxis()\n",
    "plt.show()"
   ]
  },
  {
   "cell_type": "markdown",
   "id": "b7c8f8e9-3640-4bb2-b577-267acf58b9b1",
   "metadata": {},
   "source": [
    "#### As observed, the rate of growrth in term both companies in the span of three years is pretty steady, but both are much higher in the yellow cab company.\n",
    "#### Lets see the average cost of trip and price charged"
   ]
  },
  {
   "cell_type": "code",
   "execution_count": 83,
   "id": "17ea0f18-1189-45b1-9c6c-413ecadfd961",
   "metadata": {},
   "outputs": [
    {
     "data": {
      "text/html": [
       "<div>\n",
       "<style scoped>\n",
       "    .dataframe tbody tr th:only-of-type {\n",
       "        vertical-align: middle;\n",
       "    }\n",
       "\n",
       "    .dataframe tbody tr th {\n",
       "        vertical-align: top;\n",
       "    }\n",
       "\n",
       "    .dataframe thead th {\n",
       "        text-align: right;\n",
       "    }\n",
       "</style>\n",
       "<table border=\"1\" class=\"dataframe\">\n",
       "  <thead>\n",
       "    <tr style=\"text-align: right;\">\n",
       "      <th></th>\n",
       "      <th></th>\n",
       "      <th>KM Travelled</th>\n",
       "      <th>Price Charged</th>\n",
       "      <th>Cost of Trip</th>\n",
       "    </tr>\n",
       "    <tr>\n",
       "      <th>Company</th>\n",
       "      <th>Date of Travel</th>\n",
       "      <th></th>\n",
       "      <th></th>\n",
       "      <th></th>\n",
       "    </tr>\n",
       "  </thead>\n",
       "  <tbody>\n",
       "    <tr>\n",
       "      <th rowspan=\"3\" valign=\"top\">Pink Cab</th>\n",
       "      <th>2016</th>\n",
       "      <td>22.468488</td>\n",
       "      <td>315.330113</td>\n",
       "      <td>247.008294</td>\n",
       "    </tr>\n",
       "    <tr>\n",
       "      <th>2017</th>\n",
       "      <td>22.618763</td>\n",
       "      <td>315.907442</td>\n",
       "      <td>248.836603</td>\n",
       "    </tr>\n",
       "    <tr>\n",
       "      <th>2018</th>\n",
       "      <td>22.577275</td>\n",
       "      <td>301.642530</td>\n",
       "      <td>248.412841</td>\n",
       "    </tr>\n",
       "    <tr>\n",
       "      <th rowspan=\"3\" valign=\"top\">Yellow Cab</th>\n",
       "      <th>2016</th>\n",
       "      <td>22.616742</td>\n",
       "      <td>467.918301</td>\n",
       "      <td>298.570481</td>\n",
       "    </tr>\n",
       "    <tr>\n",
       "      <th>2017</th>\n",
       "      <td>22.557303</td>\n",
       "      <td>466.639950</td>\n",
       "      <td>297.822893</td>\n",
       "    </tr>\n",
       "    <tr>\n",
       "      <th>2018</th>\n",
       "      <td>22.541036</td>\n",
       "      <td>440.875558</td>\n",
       "      <td>297.459436</td>\n",
       "    </tr>\n",
       "  </tbody>\n",
       "</table>\n",
       "</div>"
      ],
      "text/plain": [
       "                           KM Travelled  Price Charged  Cost of Trip\n",
       "Company    Date of Travel                                           \n",
       "Pink Cab   2016               22.468488     315.330113    247.008294\n",
       "           2017               22.618763     315.907442    248.836603\n",
       "           2018               22.577275     301.642530    248.412841\n",
       "Yellow Cab 2016               22.616742     467.918301    298.570481\n",
       "           2017               22.557303     466.639950    297.822893\n",
       "           2018               22.541036     440.875558    297.459436"
      ]
     },
     "execution_count": 83,
     "metadata": {},
     "output_type": "execute_result"
    }
   ],
   "source": [
    "cab_data_grouped_average = cab_data.groupby(['Company', cab_data['Date of Travel'].dt.year]).mean().drop(['Transaction ID'], axis=1)\n",
    "cab_data_grouped_average"
   ]
  },
  {
   "cell_type": "code",
   "execution_count": 84,
   "id": "bb43328f-76d2-4bba-b762-4248fa266ee7",
   "metadata": {},
   "outputs": [
    {
     "data": {
      "image/png": "[encoded data removed]",
      "text/plain": [
       "<Figure size 648x288 with 1 Axes>"
      ]
     },
     "metadata": {
      "needs_background": "light"
     },
     "output_type": "display_data"
    }
   ],
   "source": [
    "# Average cost of trip in 2016, 2017 and 2018\n",
    "cab_data_grouped_average['Cost of Trip'].unstack().plot(kind='bar');\n",
    "plt.gcf().set_size_inches(9, 4)\n",
    "plt.gca().invert_xaxis()\n",
    "plt.title('Yearly Average Cost of Trip')\n",
    "plt.ylabel('Average Cost of Trip in $');"
   ]
  },
  {
   "cell_type": "code",
   "execution_count": 85,
   "id": "48c9e1f6-642b-4c08-b560-e47943f0ea96",
   "metadata": {},
   "outputs": [
    {
     "data": {
      "image/png": "[encoded data removed]",
      "text/plain": [
       "<Figure size 648x288 with 1 Axes>"
      ]
     },
     "metadata": {
      "needs_background": "light"
     },
     "output_type": "display_data"
    }
   ],
   "source": [
    "# Average price charged in 2016, 2017 and 2018\n",
    "cab_data_grouped_average['Price Charged'].unstack().plot(kind='bar');\n",
    "plt.gcf().set_size_inches(9, 4)\n",
    "plt.gca().invert_xaxis()\n",
    "plt.title('Yearly Price Charged of a Trip')\n",
    "plt.ylabel('Average Price Charged of a Trip in $');"
   ]
  },
  {
   "cell_type": "markdown",
   "id": "1356afc0-a329-4d29-bffc-26ffebdf8def",
   "metadata": {},
   "source": [
    "#### Yellow cab rides costs and charge little bit more than pink cab, there rate is steady though in the span of three years.\n",
    "#### Maybe the reason of that is Yellow cab travel longer distances than pink cab.\n",
    "#### Lets's see:"
   ]
  },
  {
   "cell_type": "code",
   "execution_count": 86,
   "id": "1ff1c33b-73e7-4799-9f26-b2ac862341bd",
   "metadata": {},
   "outputs": [
    {
     "data": {
      "image/png": "[encoded data removed]",
      "text/plain": [
       "<Figure size 648x288 with 1 Axes>"
      ]
     },
     "metadata": {
      "needs_background": "light"
     },
     "output_type": "display_data"
    }
   ],
   "source": [
    "# Average yearly KM travelled\n",
    "cab_data_grouped_average['KM Travelled'].unstack().plot(kind='bar')\n",
    "plt.gcf().set_size_inches(9, 4)\n",
    "plt.gca().invert_xaxis()\n",
    "plt.title('Average Yearly KM Travelled')\n",
    "plt.ylabel('Average KM Travelled');"
   ]
  },
  {
   "cell_type": "markdown",
   "id": "f9c86085-dc13-4418-882c-a08d32c73ad5",
   "metadata": {},
   "source": [
    "#### So they travel the same distance, however Yellow Cab costs more and charge more.\n",
    "#### Now let's see monthly behaviour of both companies"
   ]
  },
  {
   "cell_type": "code",
   "execution_count": 93,
   "id": "1181c33d-8d4a-4601-b627-532075765f68",
   "metadata": {},
   "outputs": [
    {
     "data": {
      "text/html": [
       "<div>\n",
       "<style scoped>\n",
       "    .dataframe tbody tr th:only-of-type {\n",
       "        vertical-align: middle;\n",
       "    }\n",
       "\n",
       "    .dataframe tbody tr th {\n",
       "        vertical-align: top;\n",
       "    }\n",
       "\n",
       "    .dataframe thead th {\n",
       "        text-align: right;\n",
       "    }\n",
       "</style>\n",
       "<table border=\"1\" class=\"dataframe\">\n",
       "  <thead>\n",
       "    <tr style=\"text-align: right;\">\n",
       "      <th></th>\n",
       "      <th></th>\n",
       "      <th>KM Travelled</th>\n",
       "      <th>Price Charged</th>\n",
       "      <th>Cost of Trip</th>\n",
       "    </tr>\n",
       "    <tr>\n",
       "      <th>Company</th>\n",
       "      <th>Date of Travel</th>\n",
       "      <th></th>\n",
       "      <th></th>\n",
       "      <th></th>\n",
       "    </tr>\n",
       "  </thead>\n",
       "  <tbody>\n",
       "    <tr>\n",
       "      <th rowspan=\"12\" valign=\"top\">Pink Cab</th>\n",
       "      <th>1</th>\n",
       "      <td>113740.49</td>\n",
       "      <td>1638294.62</td>\n",
       "      <td>1.250240e+06</td>\n",
       "    </tr>\n",
       "    <tr>\n",
       "      <th>2</th>\n",
       "      <td>76210.83</td>\n",
       "      <td>1089685.63</td>\n",
       "      <td>8.376443e+05</td>\n",
       "    </tr>\n",
       "    <tr>\n",
       "      <th>3</th>\n",
       "      <td>97080.92</td>\n",
       "      <td>1367533.76</td>\n",
       "      <td>1.068437e+06</td>\n",
       "    </tr>\n",
       "    <tr>\n",
       "      <th>4</th>\n",
       "      <td>91880.15</td>\n",
       "      <td>1257084.99</td>\n",
       "      <td>1.011267e+06</td>\n",
       "    </tr>\n",
       "    <tr>\n",
       "      <th>5</th>\n",
       "      <td>111492.84</td>\n",
       "      <td>1393308.68</td>\n",
       "      <td>1.224695e+06</td>\n",
       "    </tr>\n",
       "    <tr>\n",
       "      <th>6</th>\n",
       "      <td>133577.95</td>\n",
       "      <td>1703511.10</td>\n",
       "      <td>1.470796e+06</td>\n",
       "    </tr>\n",
       "    <tr>\n",
       "      <th>7</th>\n",
       "      <td>148305.55</td>\n",
       "      <td>1932649.58</td>\n",
       "      <td>1.630764e+06</td>\n",
       "    </tr>\n",
       "    <tr>\n",
       "      <th>8</th>\n",
       "      <td>174195.47</td>\n",
       "      <td>2304272.60</td>\n",
       "      <td>1.916021e+06</td>\n",
       "    </tr>\n",
       "    <tr>\n",
       "      <th>9</th>\n",
       "      <td>217291.43</td>\n",
       "      <td>2883611.63</td>\n",
       "      <td>2.389176e+06</td>\n",
       "    </tr>\n",
       "    <tr>\n",
       "      <th>10</th>\n",
       "      <td>237926.39</td>\n",
       "      <td>3312633.47</td>\n",
       "      <td>2.616196e+06</td>\n",
       "    </tr>\n",
       "    <tr>\n",
       "      <th>11</th>\n",
       "      <td>247898.67</td>\n",
       "      <td>3536883.37</td>\n",
       "      <td>2.726557e+06</td>\n",
       "    </tr>\n",
       "    <tr>\n",
       "      <th>12</th>\n",
       "      <td>261472.42</td>\n",
       "      <td>3908781.90</td>\n",
       "      <td>2.879128e+06</td>\n",
       "    </tr>\n",
       "    <tr>\n",
       "      <th rowspan=\"12\" valign=\"top\">Yellow Cab</th>\n",
       "      <th>1</th>\n",
       "      <td>412047.25</td>\n",
       "      <td>8797332.23</td>\n",
       "      <td>5.438896e+06</td>\n",
       "    </tr>\n",
       "    <tr>\n",
       "      <th>2</th>\n",
       "      <td>336179.66</td>\n",
       "      <td>7412477.30</td>\n",
       "      <td>4.436499e+06</td>\n",
       "    </tr>\n",
       "    <tr>\n",
       "      <th>3</th>\n",
       "      <td>393560.89</td>\n",
       "      <td>8346839.42</td>\n",
       "      <td>5.195625e+06</td>\n",
       "    </tr>\n",
       "    <tr>\n",
       "      <th>4</th>\n",
       "      <td>391822.07</td>\n",
       "      <td>8248645.24</td>\n",
       "      <td>5.173102e+06</td>\n",
       "    </tr>\n",
       "    <tr>\n",
       "      <th>5</th>\n",
       "      <td>421559.05</td>\n",
       "      <td>9546900.53</td>\n",
       "      <td>5.563357e+06</td>\n",
       "    </tr>\n",
       "    <tr>\n",
       "      <th>6</th>\n",
       "      <td>424771.06</td>\n",
       "      <td>9185653.68</td>\n",
       "      <td>5.605315e+06</td>\n",
       "    </tr>\n",
       "    <tr>\n",
       "      <th>7</th>\n",
       "      <td>478426.74</td>\n",
       "      <td>9178862.64</td>\n",
       "      <td>6.317301e+06</td>\n",
       "    </tr>\n",
       "    <tr>\n",
       "      <th>8</th>\n",
       "      <td>531992.91</td>\n",
       "      <td>9881988.88</td>\n",
       "      <td>7.025718e+06</td>\n",
       "    </tr>\n",
       "    <tr>\n",
       "      <th>9</th>\n",
       "      <td>611532.39</td>\n",
       "      <td>12213217.31</td>\n",
       "      <td>8.070835e+06</td>\n",
       "    </tr>\n",
       "    <tr>\n",
       "      <th>10</th>\n",
       "      <td>681823.67</td>\n",
       "      <td>13249509.74</td>\n",
       "      <td>8.998998e+06</td>\n",
       "    </tr>\n",
       "    <tr>\n",
       "      <th>11</th>\n",
       "      <td>715805.03</td>\n",
       "      <td>14056306.30</td>\n",
       "      <td>9.446985e+06</td>\n",
       "    </tr>\n",
       "    <tr>\n",
       "      <th>12</th>\n",
       "      <td>799896.75</td>\n",
       "      <td>15736153.92</td>\n",
       "      <td>1.056088e+07</td>\n",
       "    </tr>\n",
       "  </tbody>\n",
       "</table>\n",
       "</div>"
      ],
      "text/plain": [
       "                           KM Travelled  Price Charged  Cost of Trip\n",
       "Company    Date of Travel                                           \n",
       "Pink Cab   1                  113740.49     1638294.62  1.250240e+06\n",
       "           2                   76210.83     1089685.63  8.376443e+05\n",
       "           3                   97080.92     1367533.76  1.068437e+06\n",
       "           4                   91880.15     1257084.99  1.011267e+06\n",
       "           5                  111492.84     1393308.68  1.224695e+06\n",
       "           6                  133577.95     1703511.10  1.470796e+06\n",
       "           7                  148305.55     1932649.58  1.630764e+06\n",
       "           8                  174195.47     2304272.60  1.916021e+06\n",
       "           9                  217291.43     2883611.63  2.389176e+06\n",
       "           10                 237926.39     3312633.47  2.616196e+06\n",
       "           11                 247898.67     3536883.37  2.726557e+06\n",
       "           12                 261472.42     3908781.90  2.879128e+06\n",
       "Yellow Cab 1                  412047.25     8797332.23  5.438896e+06\n",
       "           2                  336179.66     7412477.30  4.436499e+06\n",
       "           3                  393560.89     8346839.42  5.195625e+06\n",
       "           4                  391822.07     8248645.24  5.173102e+06\n",
       "           5                  421559.05     9546900.53  5.563357e+06\n",
       "           6                  424771.06     9185653.68  5.605315e+06\n",
       "           7                  478426.74     9178862.64  6.317301e+06\n",
       "           8                  531992.91     9881988.88  7.025718e+06\n",
       "           9                  611532.39    12213217.31  8.070835e+06\n",
       "           10                 681823.67    13249509.74  8.998998e+06\n",
       "           11                 715805.03    14056306.30  9.446985e+06\n",
       "           12                 799896.75    15736153.92  1.056088e+07"
      ]
     },
     "execution_count": 93,
     "metadata": {},
     "output_type": "execute_result"
    }
   ],
   "source": [
    "# Group by two companies and see each month's sum.\n",
    "cab_data_monthly_group_by_sum = cab_data.groupby(['Company', cab_data['Date of Travel'].dt.month]).sum().drop(['Transaction ID'], axis=1)\n",
    "cab_data_monthly_group_by_sum"
   ]
  },
  {
   "cell_type": "code",
   "execution_count": 129,
   "id": "49139b67-c5b2-4fda-83f9-ec86f417e51c",
   "metadata": {},
   "outputs": [
    {
     "data": {
      "image/png": "[encoded data removed]",
      "text/plain": [
       "<Figure size 864x288 with 1 Axes>"
      ]
     },
     "metadata": {
      "needs_background": "light"
     },
     "output_type": "display_data"
    }
   ],
   "source": [
    "# Sum of Revenue of each month over three years\n",
    "cab_data_monthly_group_by_sum['Price Charged'].unstack().plot(kind='bar')\n",
    "plt.gcf().set_size_inches(12, 4)\n",
    "plt.legend(['Jan', 'Feb', 'March', 'Apr', 'May', 'Jun', 'Jul', 'Aug', 'Sep', 'Oct', 'Nov', 'Dec']);\n",
    "plt.title(\"Monthly Revenue of Each Company\")\n",
    "plt.ylabel(\"Monthly Revenue\");\n",
    "# plt.gca().invert_xaxis()"
   ]
  },
  {
   "cell_type": "code",
   "execution_count": 134,
   "id": "efd45c7a-1fbc-4197-9bab-fe6c854ee65f",
   "metadata": {},
   "outputs": [
    {
     "data": {
      "image/png": "[encoded data removed]",
      "text/plain": [
       "<Figure size 864x288 with 1 Axes>"
      ]
     },
     "metadata": {
      "needs_background": "light"
     },
     "output_type": "display_data"
    }
   ],
   "source": [
    "# Sum of trip costs of each month over three years\n",
    "cab_data_monthly_group_by_sum['Cost of Trip'].unstack().plot(kind='bar')\n",
    "plt.gcf().set_size_inches(12, 4)\n",
    "plt.legend(['Jan', 'Feb', 'March', 'Apr', 'May', 'Jun', 'Jul', 'Aug', 'Sep', 'Oct', 'Nov', 'Dec']);\n",
    "plt.title(\"Monthly Cost of Each Company\")\n",
    "plt.ylabel(\"Monthly Cost\");"
   ]
  },
  {
   "cell_type": "code",
   "execution_count": 135,
   "id": "94cdfcd9-74bd-40e4-9fe3-8f16878a6104",
   "metadata": {},
   "outputs": [
    {
     "data": {
      "image/png": "[encoded data removed]",
      "text/plain": [
       "<Figure size 864x288 with 1 Axes>"
      ]
     },
     "metadata": {
      "needs_background": "light"
     },
     "output_type": "display_data"
    }
   ],
   "source": [
    "# Sum of Kilometers travelled in each month of the year over three years\n",
    "cab_data_monthly_group_by_sum['KM Travelled'].unstack().plot(kind='bar')\n",
    "plt.gcf().set_size_inches(12, 4)\n",
    "plt.legend(['Jan', 'Feb', 'March', 'Apr', 'May', 'Jun', 'Jul', 'Aug', 'Sep', 'Oct', 'Nov', 'Dec']);\n",
    "plt.title(\"Monthly Kilometers Travelled of Each Company\")\n",
    "plt.ylabel(\"Monthly Kilometers Travelled\");"
   ]
  },
  {
   "cell_type": "markdown",
   "id": "866ff8f6-d54b-4f40-9724-3fb530a6b8e4",
   "metadata": {},
   "source": [
    "#### As Seen, in each month in the year, Yellow Cab company has more activity and income"
   ]
  },
  {
   "cell_type": "code",
   "execution_count": null,
   "id": "fd9f9bb7-18c4-4ce7-a20e-279df0ec4a9f",
   "metadata": {},
   "outputs": [],
   "source": []
  }
 ],
 "metadata": {
  "kernelspec": {
   "display_name": "Python 3 (ipykernel)",
   "language": "python",
   "name": "python3"
  },
  "language_info": {
   "codemirror_mode": {
    "name": "ipython",
    "version": 3
   },
   "file_extension": ".py",
   "mimetype": "text/x-python",
   "name": "python",
   "nbconvert_exporter": "python",
   "pygments_lexer": "ipython3",
   "version": "3.8.8"
  },
  "toc-autonumbering": false,
  "toc-showcode": true,
  "toc-showmarkdowntxt": false,
  "widgets": {
   "application/vnd.jupyter.widget-state+json": {
    "state": {},
    "version_major": 2,
    "version_minor": 0
   }
  }
 },
 "nbformat": 4,
 "nbformat_minor": 5
}
