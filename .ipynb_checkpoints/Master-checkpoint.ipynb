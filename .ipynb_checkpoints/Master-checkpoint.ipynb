{
 "cells": [
  {
   "cell_type": "markdown",
   "id": "b171060d-54ee-4f50-bf0d-67bab0d8d28e",
   "metadata": {},
   "source": [
    "# Data Analysis for Cab Investment\n",
    "\n",
    "## Hypothesis and areas to investigate:\n",
    "- Which company has maximum cab users at a particular time period ?\n",
    "- Does margin proportionally increase with increase in number of customers ?\n",
    "- What cities where people use cab the most? In these cities which cab company is most demanded ?\n",
    "- In holidays which company is the most demanded ?\n",
    "- Which company is more demanded in which age category ?\n",
    "\n",
    "## Business problem\n",
    "Go to market strategy, investigte two cab companies activities before investment.\n",
    "\n",
    "## Data used:\n",
    "- __Cab_Data.csv__: Details of transaction for 2 cab companies.\n",
    "- __Customer_ID.csv__: Mapping table that contains a unique identifier which links the customer’s demographic details.\n",
    "- __Transaction_ID.csv__: Mapping table that contains transaction to customer mapping and payment mode.\n",
    "- __City.csv__: contains list of US cities, their population and number of cab users.\n",
    "- __US Bank holidays.csv__: Contain all holidays.\n",
    "\n",
    "---"
   ]
  },
  {
   "cell_type": "markdown",
   "id": "ac1a2436",
   "metadata": {},
   "source": [
    "#### Data read and clean"
   ]
  },
  {
   "cell_type": "code",
   "execution_count": 85,
   "id": "17a81826",
   "metadata": {},
   "outputs": [],
   "source": [
    "%run Read_and_Clean.ipynb"
   ]
  },
  {
   "cell_type": "markdown",
   "id": "fe4608ea",
   "metadata": {},
   "source": [
    "---\n",
    "#### Cab Data "
   ]
  },
  {
   "cell_type": "code",
   "execution_count": 86,
   "id": "0953ac61",
   "metadata": {},
   "outputs": [
    {
     "data": {
      "text/html": [
       "<div>\n",
       "<style scoped>\n",
       "    .dataframe tbody tr th:only-of-type {\n",
       "        vertical-align: middle;\n",
       "    }\n",
       "\n",
       "    .dataframe tbody tr th {\n",
       "        vertical-align: top;\n",
       "    }\n",
       "\n",
       "    .dataframe thead th {\n",
       "        text-align: right;\n",
       "    }\n",
       "</style>\n",
       "<table border=\"1\" class=\"dataframe\">\n",
       "  <thead>\n",
       "    <tr style=\"text-align: right;\">\n",
       "      <th></th>\n",
       "      <th>Transaction ID</th>\n",
       "      <th>Date of Travel</th>\n",
       "      <th>Company</th>\n",
       "      <th>City</th>\n",
       "      <th>KM Travelled</th>\n",
       "      <th>Price Charged</th>\n",
       "      <th>Cost of Trip</th>\n",
       "    </tr>\n",
       "  </thead>\n",
       "  <tbody>\n",
       "    <tr>\n",
       "      <th>0</th>\n",
       "      <td>10000011</td>\n",
       "      <td>2016-01-08</td>\n",
       "      <td>Pink Cab</td>\n",
       "      <td>ATLANTA GA</td>\n",
       "      <td>30.45</td>\n",
       "      <td>370.95</td>\n",
       "      <td>313.635</td>\n",
       "    </tr>\n",
       "    <tr>\n",
       "      <th>1</th>\n",
       "      <td>10000012</td>\n",
       "      <td>2016-01-06</td>\n",
       "      <td>Pink Cab</td>\n",
       "      <td>ATLANTA GA</td>\n",
       "      <td>28.62</td>\n",
       "      <td>358.52</td>\n",
       "      <td>334.854</td>\n",
       "    </tr>\n",
       "    <tr>\n",
       "      <th>2</th>\n",
       "      <td>10000013</td>\n",
       "      <td>2016-01-02</td>\n",
       "      <td>Pink Cab</td>\n",
       "      <td>ATLANTA GA</td>\n",
       "      <td>9.04</td>\n",
       "      <td>125.20</td>\n",
       "      <td>97.632</td>\n",
       "    </tr>\n",
       "    <tr>\n",
       "      <th>3</th>\n",
       "      <td>10000014</td>\n",
       "      <td>2016-01-07</td>\n",
       "      <td>Pink Cab</td>\n",
       "      <td>ATLANTA GA</td>\n",
       "      <td>33.17</td>\n",
       "      <td>377.40</td>\n",
       "      <td>351.602</td>\n",
       "    </tr>\n",
       "    <tr>\n",
       "      <th>4</th>\n",
       "      <td>10000015</td>\n",
       "      <td>2016-01-03</td>\n",
       "      <td>Pink Cab</td>\n",
       "      <td>ATLANTA GA</td>\n",
       "      <td>8.73</td>\n",
       "      <td>114.62</td>\n",
       "      <td>97.776</td>\n",
       "    </tr>\n",
       "    <tr>\n",
       "      <th>5</th>\n",
       "      <td>10000016</td>\n",
       "      <td>2016-01-07</td>\n",
       "      <td>Pink Cab</td>\n",
       "      <td>ATLANTA GA</td>\n",
       "      <td>6.06</td>\n",
       "      <td>72.43</td>\n",
       "      <td>63.024</td>\n",
       "    </tr>\n",
       "    <tr>\n",
       "      <th>6</th>\n",
       "      <td>10000017</td>\n",
       "      <td>2016-01-03</td>\n",
       "      <td>Pink Cab</td>\n",
       "      <td>AUSTIN TX</td>\n",
       "      <td>44.00</td>\n",
       "      <td>576.15</td>\n",
       "      <td>475.200</td>\n",
       "    </tr>\n",
       "    <tr>\n",
       "      <th>7</th>\n",
       "      <td>10000018</td>\n",
       "      <td>2016-01-07</td>\n",
       "      <td>Pink Cab</td>\n",
       "      <td>AUSTIN TX</td>\n",
       "      <td>35.65</td>\n",
       "      <td>466.10</td>\n",
       "      <td>377.890</td>\n",
       "    </tr>\n",
       "    <tr>\n",
       "      <th>8</th>\n",
       "      <td>10000019</td>\n",
       "      <td>2016-01-12</td>\n",
       "      <td>Pink Cab</td>\n",
       "      <td>BOSTON MA</td>\n",
       "      <td>14.40</td>\n",
       "      <td>191.61</td>\n",
       "      <td>146.880</td>\n",
       "    </tr>\n",
       "    <tr>\n",
       "      <th>9</th>\n",
       "      <td>10000020</td>\n",
       "      <td>2016-01-06</td>\n",
       "      <td>Pink Cab</td>\n",
       "      <td>BOSTON MA</td>\n",
       "      <td>10.89</td>\n",
       "      <td>156.98</td>\n",
       "      <td>113.256</td>\n",
       "    </tr>\n",
       "  </tbody>\n",
       "</table>\n",
       "</div>"
      ],
      "text/plain": [
       "   Transaction ID Date of Travel   Company        City  KM Travelled  \\\n",
       "0        10000011     2016-01-08  Pink Cab  ATLANTA GA         30.45   \n",
       "1        10000012     2016-01-06  Pink Cab  ATLANTA GA         28.62   \n",
       "2        10000013     2016-01-02  Pink Cab  ATLANTA GA          9.04   \n",
       "3        10000014     2016-01-07  Pink Cab  ATLANTA GA         33.17   \n",
       "4        10000015     2016-01-03  Pink Cab  ATLANTA GA          8.73   \n",
       "5        10000016     2016-01-07  Pink Cab  ATLANTA GA          6.06   \n",
       "6        10000017     2016-01-03  Pink Cab   AUSTIN TX         44.00   \n",
       "7        10000018     2016-01-07  Pink Cab   AUSTIN TX         35.65   \n",
       "8        10000019     2016-01-12  Pink Cab   BOSTON MA         14.40   \n",
       "9        10000020     2016-01-06  Pink Cab   BOSTON MA         10.89   \n",
       "\n",
       "   Price Charged  Cost of Trip  \n",
       "0         370.95       313.635  \n",
       "1         358.52       334.854  \n",
       "2         125.20        97.632  \n",
       "3         377.40       351.602  \n",
       "4         114.62        97.776  \n",
       "5          72.43        63.024  \n",
       "6         576.15       475.200  \n",
       "7         466.10       377.890  \n",
       "8         191.61       146.880  \n",
       "9         156.98       113.256  "
      ]
     },
     "execution_count": 86,
     "metadata": {},
     "output_type": "execute_result"
    }
   ],
   "source": [
    "#Investigate cab_data dataset\n",
    "df_cab.head(10)"
   ]
  },
  {
   "cell_type": "code",
   "execution_count": 87,
   "id": "923c1339",
   "metadata": {},
   "outputs": [
    {
     "data": {
      "text/plain": [
       "(359392, 7)"
      ]
     },
     "execution_count": 87,
     "metadata": {},
     "output_type": "execute_result"
    }
   ],
   "source": [
    "df_cab.shape"
   ]
  },
  {
   "cell_type": "code",
   "execution_count": 88,
   "id": "3936849f",
   "metadata": {},
   "outputs": [
    {
     "data": {
      "text/html": [
       "<div>\n",
       "<style scoped>\n",
       "    .dataframe tbody tr th:only-of-type {\n",
       "        vertical-align: middle;\n",
       "    }\n",
       "\n",
       "    .dataframe tbody tr th {\n",
       "        vertical-align: top;\n",
       "    }\n",
       "\n",
       "    .dataframe thead th {\n",
       "        text-align: right;\n",
       "    }\n",
       "</style>\n",
       "<table border=\"1\" class=\"dataframe\">\n",
       "  <thead>\n",
       "    <tr style=\"text-align: right;\">\n",
       "      <th></th>\n",
       "      <th>KM Travelled</th>\n",
       "      <th>Price Charged</th>\n",
       "      <th>Cost of Trip</th>\n",
       "    </tr>\n",
       "  </thead>\n",
       "  <tbody>\n",
       "    <tr>\n",
       "      <th>count</th>\n",
       "      <td>359392.000000</td>\n",
       "      <td>359392.000000</td>\n",
       "      <td>359392.000000</td>\n",
       "    </tr>\n",
       "    <tr>\n",
       "      <th>mean</th>\n",
       "      <td>22.567254</td>\n",
       "      <td>423.443311</td>\n",
       "      <td>286.190113</td>\n",
       "    </tr>\n",
       "    <tr>\n",
       "      <th>std</th>\n",
       "      <td>12.233526</td>\n",
       "      <td>274.378911</td>\n",
       "      <td>157.993661</td>\n",
       "    </tr>\n",
       "    <tr>\n",
       "      <th>min</th>\n",
       "      <td>1.900000</td>\n",
       "      <td>15.600000</td>\n",
       "      <td>19.000000</td>\n",
       "    </tr>\n",
       "    <tr>\n",
       "      <th>25%</th>\n",
       "      <td>12.000000</td>\n",
       "      <td>206.437500</td>\n",
       "      <td>151.200000</td>\n",
       "    </tr>\n",
       "    <tr>\n",
       "      <th>50%</th>\n",
       "      <td>22.440000</td>\n",
       "      <td>386.360000</td>\n",
       "      <td>282.480000</td>\n",
       "    </tr>\n",
       "    <tr>\n",
       "      <th>75%</th>\n",
       "      <td>32.960000</td>\n",
       "      <td>583.660000</td>\n",
       "      <td>413.683200</td>\n",
       "    </tr>\n",
       "    <tr>\n",
       "      <th>max</th>\n",
       "      <td>48.000000</td>\n",
       "      <td>2048.030000</td>\n",
       "      <td>691.200000</td>\n",
       "    </tr>\n",
       "  </tbody>\n",
       "</table>\n",
       "</div>"
      ],
      "text/plain": [
       "        KM Travelled  Price Charged   Cost of Trip\n",
       "count  359392.000000  359392.000000  359392.000000\n",
       "mean       22.567254     423.443311     286.190113\n",
       "std        12.233526     274.378911     157.993661\n",
       "min         1.900000      15.600000      19.000000\n",
       "25%        12.000000     206.437500     151.200000\n",
       "50%        22.440000     386.360000     282.480000\n",
       "75%        32.960000     583.660000     413.683200\n",
       "max        48.000000    2048.030000     691.200000"
      ]
     },
     "execution_count": 88,
     "metadata": {},
     "output_type": "execute_result"
    }
   ],
   "source": [
    "df_cab.drop(['Transaction ID'], axis=1).describe()"
   ]
  },
  {
   "cell_type": "code",
   "execution_count": 89,
   "id": "c8087c16",
   "metadata": {},
   "outputs": [
    {
     "name": "stdout",
     "output_type": "stream",
     "text": [
      "<class 'pandas.core.frame.DataFrame'>\n",
      "RangeIndex: 359392 entries, 0 to 359391\n",
      "Data columns (total 7 columns):\n",
      " #   Column          Non-Null Count   Dtype         \n",
      "---  ------          --------------   -----         \n",
      " 0   Transaction ID  359392 non-null  int64         \n",
      " 1   Date of Travel  359392 non-null  datetime64[ns]\n",
      " 2   Company         359392 non-null  object        \n",
      " 3   City            359392 non-null  object        \n",
      " 4   KM Travelled    359392 non-null  float64       \n",
      " 5   Price Charged   359392 non-null  float64       \n",
      " 6   Cost of Trip    359392 non-null  float64       \n",
      "dtypes: datetime64[ns](1), float64(3), int64(1), object(2)\n",
      "memory usage: 19.2+ MB\n"
     ]
    }
   ],
   "source": [
    "df_cab.info()"
   ]
  },
  {
   "cell_type": "code",
   "execution_count": 90,
   "id": "40f044d3",
   "metadata": {},
   "outputs": [
    {
     "data": {
      "text/plain": [
       "Transaction ID    359392\n",
       "Date of Travel      1095\n",
       "Company                2\n",
       "City                  19\n",
       "KM Travelled         874\n",
       "Price Charged      99176\n",
       "Cost of Trip       16291\n",
       "dtype: int64"
      ]
     },
     "execution_count": 90,
     "metadata": {},
     "output_type": "execute_result"
    }
   ],
   "source": [
    "df_cab.nunique()"
   ]
  },
  {
   "cell_type": "code",
   "execution_count": 91,
   "id": "488b61b0",
   "metadata": {},
   "outputs": [
    {
     "data": {
      "text/plain": [
       "array(['Pink Cab', 'Yellow Cab'], dtype=object)"
      ]
     },
     "execution_count": 91,
     "metadata": {},
     "output_type": "execute_result"
    }
   ],
   "source": [
    "df_cab['Company'].unique()"
   ]
  },
  {
   "cell_type": "code",
   "execution_count": 92,
   "id": "66832cb4",
   "metadata": {},
   "outputs": [
    {
     "data": {
      "text/plain": [
       "array(['ATLANTA GA', 'AUSTIN TX', 'BOSTON MA', 'CHICAGO IL', 'DALLAS TX',\n",
       "       'DENVER CO', 'LOS ANGELES CA', 'MIAMI FL', 'NASHVILLE TN',\n",
       "       'NEW YORK NY', 'ORANGE COUNTY', 'PHOENIX AZ', 'PITTSBURGH PA',\n",
       "       'SACRAMENTO CA', 'SAN DIEGO CA', 'SEATTLE WA', 'SILICON VALLEY',\n",
       "       'TUCSON AZ', 'WASHINGTON DC'], dtype=object)"
      ]
     },
     "execution_count": 92,
     "metadata": {},
     "output_type": "execute_result"
    }
   ],
   "source": [
    "df_cab['City'].unique()"
   ]
  },
  {
   "cell_type": "markdown",
   "id": "7218e808",
   "metadata": {},
   "source": [
    "---\n",
    "#### Cab Rides"
   ]
  },
  {
   "cell_type": "code",
   "execution_count": 93,
   "id": "19db9676",
   "metadata": {},
   "outputs": [
    {
     "data": {
      "image/png": "[encoded data removed]",
      "text/plain": [
       "<Figure size 1152x648 with 1 Axes>"
      ]
     },
     "metadata": {
      "needs_background": "light"
     },
     "output_type": "display_data"
    }
   ],
   "source": [
    "# Number of pink cab rides to yellow cab rides visualized.\n",
    "plt.figure(figsize=(16, 9))\n",
    "ax = sns.countplot(data=df_cab, x='Company')\n",
    "ax.patches[0].set_facecolor('salmon')\n",
    "ax.patches[1].set_facecolor('goldenrod')\n",
    "plt.title(\"Cab Rides\", fontsize=24);\n",
    "plt.xlabel(\"Company\", fontsize=16)\n",
    "plt.ylabel(\"Number of rides\", fontsize=16);"
   ]
  },
  {
   "cell_type": "markdown",
   "id": "eb03b5e1",
   "metadata": {},
   "source": [
    "---\n",
    "#### Total Revenue"
   ]
  },
  {
   "cell_type": "code",
   "execution_count": 94,
   "id": "3e19c579",
   "metadata": {},
   "outputs": [
    {
     "data": {
      "text/html": [
       "<div>\n",
       "<style scoped>\n",
       "    .dataframe tbody tr th:only-of-type {\n",
       "        vertical-align: middle;\n",
       "    }\n",
       "\n",
       "    .dataframe tbody tr th {\n",
       "        vertical-align: top;\n",
       "    }\n",
       "\n",
       "    .dataframe thead th {\n",
       "        text-align: right;\n",
       "    }\n",
       "</style>\n",
       "<table border=\"1\" class=\"dataframe\">\n",
       "  <thead>\n",
       "    <tr style=\"text-align: right;\">\n",
       "      <th></th>\n",
       "      <th>KM Travelled</th>\n",
       "      <th>Price Charged</th>\n",
       "      <th>Cost of Trip</th>\n",
       "    </tr>\n",
       "    <tr>\n",
       "      <th>Company</th>\n",
       "      <th></th>\n",
       "      <th></th>\n",
       "      <th></th>\n",
       "    </tr>\n",
       "  </thead>\n",
       "  <tbody>\n",
       "    <tr>\n",
       "      <th>Pink Cab</th>\n",
       "      <td>1911073.11</td>\n",
       "      <td>2.632825e+07</td>\n",
       "      <td>2.102092e+07</td>\n",
       "    </tr>\n",
       "    <tr>\n",
       "      <th>Yellow Cab</th>\n",
       "      <td>6199417.47</td>\n",
       "      <td>1.258539e+08</td>\n",
       "      <td>8.183351e+07</td>\n",
       "    </tr>\n",
       "  </tbody>\n",
       "</table>\n",
       "</div>"
      ],
      "text/plain": [
       "            KM Travelled  Price Charged  Cost of Trip\n",
       "Company                                              \n",
       "Pink Cab      1911073.11   2.632825e+07  2.102092e+07\n",
       "Yellow Cab    6199417.47   1.258539e+08  8.183351e+07"
      ]
     },
     "execution_count": 94,
     "metadata": {},
     "output_type": "execute_result"
    }
   ],
   "source": [
    "# Sum grouped by cab company\n",
    "df_cab_grouped = df_cab[['KM Travelled', 'Price Charged', 'Cost of Trip', 'Company']].groupby('Company').sum()\n",
    "df_cab_grouped"
   ]
  },
  {
   "cell_type": "code",
   "execution_count": 95,
   "id": "adbffc60",
   "metadata": {},
   "outputs": [
    {
     "data": {
      "image/png": "[encoded data removed]",
      "text/plain": [
       "<Figure size 1152x648 with 1 Axes>"
      ]
     },
     "metadata": {
      "needs_background": "light"
     },
     "output_type": "display_data"
    }
   ],
   "source": [
    "# difference in revenue visualized\n",
    "plt.figure(figsize=(16, 9))\n",
    "plt.bar(data=df_cab_grouped.reset_index(), x='Company', height='Price Charged', color=['salmon', 'goldenrod'])\n",
    "plt.xticks(rotation = 90)\n",
    "plt.title(\"Revenue\", fontsize=24)\n",
    "plt.xlabel(\"Company\", fontsize=16)\n",
    "plt.ylabel(\"Revenue in 100M\", fontsize=16)\n",
    "plt.xticks(rotation=0)\n",
    "plt.show();"
   ]
  },
  {
   "cell_type": "markdown",
   "id": "a9750bec",
   "metadata": {},
   "source": [
    "---\n",
    "#### Yearly Comparison"
   ]
  },
  {
   "cell_type": "code",
   "execution_count": 96,
   "id": "30f4a969",
   "metadata": {},
   "outputs": [],
   "source": [
    "df_cab_yearly_grouped_sum = df_cab.groupby(['Company', df_cab['Date of Travel'].dt.year]).sum().drop('Transaction ID', axis=1)\n",
    "df_cab_yearly_grouped_avg = df_cab.groupby(['Company', df_cab['Date of Travel'].dt.year]).mean().drop(['Transaction ID'], axis=1)"
   ]
  },
  {
   "cell_type": "code",
   "execution_count": 97,
   "id": "b3164ff3",
   "metadata": {},
   "outputs": [
    {
     "data": {
      "image/png": "[encoded data removed]",
      "text/plain": [
       "<Figure size 1152x648 with 1 Axes>"
      ]
     },
     "metadata": {
      "needs_background": "light"
     },
     "output_type": "display_data"
    }
   ],
   "source": [
    "# Plot Kilometers travelled yearly comparison between yellow company and pink company\n",
    "df_cab_yearly_grouped_sum['KM Travelled'].unstack().plot(kind='bar');\n",
    "plt.title(\"Number of Kilometers per year\", fontsize=24)\n",
    "plt.ylabel(\"KM Travelled\", fontsize=16)\n",
    "plt.xlabel('Company', fontsize=16)\n",
    "plt.xticks(rotation=0)\n",
    "plt.gcf().set_size_inches(16, 9)"
   ]
  },
  {
   "cell_type": "code",
   "execution_count": 98,
   "id": "c6a34a7a",
   "metadata": {},
   "outputs": [
    {
     "data": {
      "image/png": "[encoded data removed]",
      "text/plain": [
       "<Figure size 1152x648 with 1 Axes>"
      ]
     },
     "metadata": {
      "needs_background": "light"
     },
     "output_type": "display_data"
    }
   ],
   "source": [
    "# Plot Revenue yearly comparison between yellow company and pink company\n",
    "df_cab_yearly_grouped_sum['Price Charged'].unstack().plot(kind='bar');\n",
    "plt.title(\"Revenue per year\", fontsize=24)\n",
    "plt.ylabel(\"Revenue\", fontsize=16)\n",
    "plt.xlabel('Compant', fontsize=16)\n",
    "plt.xticks(rotation=0)\n",
    "plt.gcf().set_size_inches(16, 9)"
   ]
  },
  {
   "cell_type": "code",
   "execution_count": 99,
   "id": "d18d7153",
   "metadata": {},
   "outputs": [
    {
     "data": {
      "image/png": "[encoded data removed]",
      "text/plain": [
       "<Figure size 1152x648 with 1 Axes>"
      ]
     },
     "metadata": {
      "needs_background": "light"
     },
     "output_type": "display_data"
    }
   ],
   "source": [
    "# Average cost of trip in 2016, 2017 and 2018\n",
    "df_cab_yearly_grouped_avg['Cost of Trip'].unstack().plot(kind='bar');\n",
    "plt.title('Yearly Average Cost of Trip', fontsize=24)\n",
    "plt.ylabel('Average Cost of Trip in $', fontsize=16)\n",
    "plt.xlabel('Company', fontsize=16)\n",
    "plt.gcf().set_size_inches(16, 9)\n",
    "plt.xticks(rotation=0)\n",
    "plt.ylim(0, 600);"
   ]
  },
  {
   "cell_type": "code",
   "execution_count": 100,
   "id": "ee2431bb",
   "metadata": {},
   "outputs": [
    {
     "data": {
      "image/png": "[encoded data removed]",
      "text/plain": [
       "<Figure size 1152x648 with 1 Axes>"
      ]
     },
     "metadata": {
      "needs_background": "light"
     },
     "output_type": "display_data"
    }
   ],
   "source": [
    "# Average Price Charged per trip in 2016, 2017 and 2018\n",
    "df_cab_yearly_grouped_avg['Price Charged'].unstack().plot(kind='bar');\n",
    "plt.title('Yearly Average Price Charged', fontsize=24)\n",
    "plt.ylabel('Average Cost of Trip in $', fontsize=16);\n",
    "plt.xlabel('Company', fontsize=16)\n",
    "plt.gcf().set_size_inches(16, 9)\n",
    "plt.xticks(rotation=0)\n",
    "plt.ylim(0, 600);"
   ]
  },
  {
   "cell_type": "markdown",
   "id": "f1c0654a",
   "metadata": {},
   "source": [
    "---\n",
    "#### Monthly Comparison"
   ]
  },
  {
   "cell_type": "code",
   "execution_count": 101,
   "id": "2ecac271",
   "metadata": {},
   "outputs": [
    {
     "data": {
      "text/html": [
       "<div>\n",
       "<style scoped>\n",
       "    .dataframe tbody tr th:only-of-type {\n",
       "        vertical-align: middle;\n",
       "    }\n",
       "\n",
       "    .dataframe tbody tr th {\n",
       "        vertical-align: top;\n",
       "    }\n",
       "\n",
       "    .dataframe thead th {\n",
       "        text-align: right;\n",
       "    }\n",
       "</style>\n",
       "<table border=\"1\" class=\"dataframe\">\n",
       "  <thead>\n",
       "    <tr style=\"text-align: right;\">\n",
       "      <th></th>\n",
       "      <th></th>\n",
       "      <th>KM Travelled</th>\n",
       "      <th>Price Charged</th>\n",
       "      <th>Cost of Trip</th>\n",
       "    </tr>\n",
       "    <tr>\n",
       "      <th>Company</th>\n",
       "      <th>Date of Travel</th>\n",
       "      <th></th>\n",
       "      <th></th>\n",
       "      <th></th>\n",
       "    </tr>\n",
       "  </thead>\n",
       "  <tbody>\n",
       "    <tr>\n",
       "      <th rowspan=\"12\" valign=\"top\">Pink Cab</th>\n",
       "      <th>1</th>\n",
       "      <td>113740.49</td>\n",
       "      <td>1638294.62</td>\n",
       "      <td>1.250240e+06</td>\n",
       "    </tr>\n",
       "    <tr>\n",
       "      <th>2</th>\n",
       "      <td>76210.83</td>\n",
       "      <td>1089685.63</td>\n",
       "      <td>8.376443e+05</td>\n",
       "    </tr>\n",
       "    <tr>\n",
       "      <th>3</th>\n",
       "      <td>97080.92</td>\n",
       "      <td>1367533.76</td>\n",
       "      <td>1.068437e+06</td>\n",
       "    </tr>\n",
       "    <tr>\n",
       "      <th>4</th>\n",
       "      <td>91880.15</td>\n",
       "      <td>1257084.99</td>\n",
       "      <td>1.011267e+06</td>\n",
       "    </tr>\n",
       "    <tr>\n",
       "      <th>5</th>\n",
       "      <td>111492.84</td>\n",
       "      <td>1393308.68</td>\n",
       "      <td>1.224695e+06</td>\n",
       "    </tr>\n",
       "    <tr>\n",
       "      <th>6</th>\n",
       "      <td>133577.95</td>\n",
       "      <td>1703511.10</td>\n",
       "      <td>1.470796e+06</td>\n",
       "    </tr>\n",
       "    <tr>\n",
       "      <th>7</th>\n",
       "      <td>148305.55</td>\n",
       "      <td>1932649.58</td>\n",
       "      <td>1.630764e+06</td>\n",
       "    </tr>\n",
       "    <tr>\n",
       "      <th>8</th>\n",
       "      <td>174195.47</td>\n",
       "      <td>2304272.60</td>\n",
       "      <td>1.916021e+06</td>\n",
       "    </tr>\n",
       "    <tr>\n",
       "      <th>9</th>\n",
       "      <td>217291.43</td>\n",
       "      <td>2883611.63</td>\n",
       "      <td>2.389176e+06</td>\n",
       "    </tr>\n",
       "    <tr>\n",
       "      <th>10</th>\n",
       "      <td>237926.39</td>\n",
       "      <td>3312633.47</td>\n",
       "      <td>2.616196e+06</td>\n",
       "    </tr>\n",
       "    <tr>\n",
       "      <th>11</th>\n",
       "      <td>247898.67</td>\n",
       "      <td>3536883.37</td>\n",
       "      <td>2.726557e+06</td>\n",
       "    </tr>\n",
       "    <tr>\n",
       "      <th>12</th>\n",
       "      <td>261472.42</td>\n",
       "      <td>3908781.90</td>\n",
       "      <td>2.879128e+06</td>\n",
       "    </tr>\n",
       "    <tr>\n",
       "      <th rowspan=\"12\" valign=\"top\">Yellow Cab</th>\n",
       "      <th>1</th>\n",
       "      <td>412047.25</td>\n",
       "      <td>8797332.23</td>\n",
       "      <td>5.438896e+06</td>\n",
       "    </tr>\n",
       "    <tr>\n",
       "      <th>2</th>\n",
       "      <td>336179.66</td>\n",
       "      <td>7412477.30</td>\n",
       "      <td>4.436499e+06</td>\n",
       "    </tr>\n",
       "    <tr>\n",
       "      <th>3</th>\n",
       "      <td>393560.89</td>\n",
       "      <td>8346839.42</td>\n",
       "      <td>5.195625e+06</td>\n",
       "    </tr>\n",
       "    <tr>\n",
       "      <th>4</th>\n",
       "      <td>391822.07</td>\n",
       "      <td>8248645.24</td>\n",
       "      <td>5.173102e+06</td>\n",
       "    </tr>\n",
       "    <tr>\n",
       "      <th>5</th>\n",
       "      <td>421559.05</td>\n",
       "      <td>9546900.53</td>\n",
       "      <td>5.563357e+06</td>\n",
       "    </tr>\n",
       "    <tr>\n",
       "      <th>6</th>\n",
       "      <td>424771.06</td>\n",
       "      <td>9185653.68</td>\n",
       "      <td>5.605315e+06</td>\n",
       "    </tr>\n",
       "    <tr>\n",
       "      <th>7</th>\n",
       "      <td>478426.74</td>\n",
       "      <td>9178862.64</td>\n",
       "      <td>6.317301e+06</td>\n",
       "    </tr>\n",
       "    <tr>\n",
       "      <th>8</th>\n",
       "      <td>531992.91</td>\n",
       "      <td>9881988.88</td>\n",
       "      <td>7.025718e+06</td>\n",
       "    </tr>\n",
       "    <tr>\n",
       "      <th>9</th>\n",
       "      <td>611532.39</td>\n",
       "      <td>12213217.31</td>\n",
       "      <td>8.070835e+06</td>\n",
       "    </tr>\n",
       "    <tr>\n",
       "      <th>10</th>\n",
       "      <td>681823.67</td>\n",
       "      <td>13249509.74</td>\n",
       "      <td>8.998998e+06</td>\n",
       "    </tr>\n",
       "    <tr>\n",
       "      <th>11</th>\n",
       "      <td>715805.03</td>\n",
       "      <td>14056306.30</td>\n",
       "      <td>9.446985e+06</td>\n",
       "    </tr>\n",
       "    <tr>\n",
       "      <th>12</th>\n",
       "      <td>799896.75</td>\n",
       "      <td>15736153.92</td>\n",
       "      <td>1.056088e+07</td>\n",
       "    </tr>\n",
       "  </tbody>\n",
       "</table>\n",
       "</div>"
      ],
      "text/plain": [
       "                           KM Travelled  Price Charged  Cost of Trip\n",
       "Company    Date of Travel                                           \n",
       "Pink Cab   1                  113740.49     1638294.62  1.250240e+06\n",
       "           2                   76210.83     1089685.63  8.376443e+05\n",
       "           3                   97080.92     1367533.76  1.068437e+06\n",
       "           4                   91880.15     1257084.99  1.011267e+06\n",
       "           5                  111492.84     1393308.68  1.224695e+06\n",
       "           6                  133577.95     1703511.10  1.470796e+06\n",
       "           7                  148305.55     1932649.58  1.630764e+06\n",
       "           8                  174195.47     2304272.60  1.916021e+06\n",
       "           9                  217291.43     2883611.63  2.389176e+06\n",
       "           10                 237926.39     3312633.47  2.616196e+06\n",
       "           11                 247898.67     3536883.37  2.726557e+06\n",
       "           12                 261472.42     3908781.90  2.879128e+06\n",
       "Yellow Cab 1                  412047.25     8797332.23  5.438896e+06\n",
       "           2                  336179.66     7412477.30  4.436499e+06\n",
       "           3                  393560.89     8346839.42  5.195625e+06\n",
       "           4                  391822.07     8248645.24  5.173102e+06\n",
       "           5                  421559.05     9546900.53  5.563357e+06\n",
       "           6                  424771.06     9185653.68  5.605315e+06\n",
       "           7                  478426.74     9178862.64  6.317301e+06\n",
       "           8                  531992.91     9881988.88  7.025718e+06\n",
       "           9                  611532.39    12213217.31  8.070835e+06\n",
       "           10                 681823.67    13249509.74  8.998998e+06\n",
       "           11                 715805.03    14056306.30  9.446985e+06\n",
       "           12                 799896.75    15736153.92  1.056088e+07"
      ]
     },
     "execution_count": 101,
     "metadata": {},
     "output_type": "execute_result"
    }
   ],
   "source": [
    "# Group by two companies and see each month's sum.\n",
    "df_cab_monthly_grouped_sum = df_cab.groupby(['Company', df_cab['Date of Travel'].dt.month]).sum().drop(['Transaction ID'], axis=1)\n",
    "df_cab_monthly_grouped_sum"
   ]
  },
  {
   "cell_type": "code",
   "execution_count": 102,
   "id": "7b96fdf8",
   "metadata": {},
   "outputs": [
    {
     "data": {
      "image/png": "[encoded data removed]",
      "text/plain": [
       "<Figure size 1152x648 with 1 Axes>"
      ]
     },
     "metadata": {
      "needs_background": "light"
     },
     "output_type": "display_data"
    }
   ],
   "source": [
    "# Sum of trip costs of each month over three years\n",
    "df_cab_monthly_grouped_sum['Cost of Trip'].unstack().plot(kind='bar')\n",
    "plt.gcf().set_size_inches(16, 9)\n",
    "plt.legend(['Jan', 'Feb', 'March', 'Apr', 'May', 'Jun', 'Jul', 'Aug', 'Sep', 'Oct', 'Nov', 'Dec']);\n",
    "plt.title(\"Monthly Sum Cost\", fontsize=24)\n",
    "plt.xticks(rotation=0)\n",
    "plt.ylabel(\"Monthly Cost\", fontsize=16);\n",
    "plt.xlabel(\"Company\", fontsize=16)\n",
    "plt.ylim(0, 1.7e7);"
   ]
  },
  {
   "cell_type": "code",
   "execution_count": 103,
   "id": "d762cd00",
   "metadata": {},
   "outputs": [
    {
     "data": {
      "image/png": "[encoded data removed]",
      "text/plain": [
       "<Figure size 1152x648 with 1 Axes>"
      ]
     },
     "metadata": {
      "needs_background": "light"
     },
     "output_type": "display_data"
    }
   ],
   "source": [
    "# Sum of price charged of each month over three years\n",
    "df_cab_monthly_grouped_sum['Price Charged'].unstack().plot(kind='bar')\n",
    "plt.gcf().set_size_inches(16, 9)\n",
    "plt.legend(['Jan', 'Feb', 'March', 'Apr', 'May', 'Jun', 'Jul', 'Aug', 'Sep', 'Oct', 'Nov', 'Dec']);\n",
    "plt.title(\"Monthly Revenue of Each Company\", fontsize=24)\n",
    "plt.ylabel(\"Monthly Revenue\", fontsize=16);\n",
    "plt.xlabel(\"Company\", fontsize=16)\n",
    "plt.ylim(0, 1.7e7);"
   ]
  },
  {
   "cell_type": "markdown",
   "id": "3fe316ba",
   "metadata": {},
   "source": [
    "---\n",
    "#### q1- Which company has maximum cab users at a particular time period ?"
   ]
  },
  {
   "cell_type": "code",
   "execution_count": 111,
   "id": "b9a8a112",
   "metadata": {},
   "outputs": [],
   "source": [
    "# get number of transactions for each company per year\n",
    "df_yellow_2016 = df_cab[(df_cab['Date of Travel'].dt.year == 2016) & (df_cab['Company'] == 'Yellow Cab')]\n",
    "df_yellow_2017 = df_cab[(df_cab['Date of Travel'].dt.year == 2017) & (df_cab['Company'] == 'Yellow Cab')]\n",
    "df_yellow_2018 = df_cab[(df_cab['Date of Travel'].dt.year == 2018) & (df_cab['Company'] == 'Yellow Cab')]\n",
    "\n",
    "df_pink_2016 = df_cab[(df_cab['Date of Travel'].dt.year == 2016) & (df_cab['Company'] == 'Pink Cab')]\n",
    "df_pink_2017 = df_cab[(df_cab['Date of Travel'].dt.year == 2017) & (df_cab['Company'] == 'Pink Cab')]\n",
    "df_pink_2018 = df_cab[(df_cab['Date of Travel'].dt.year == 2018) & (df_cab['Company'] == 'Pink Cab')]"
   ]
  },
  {
   "cell_type": "code",
   "execution_count": 105,
   "id": "fa378468",
   "metadata": {},
   "outputs": [
    {
     "ename": "TypeError",
     "evalue": "Only valid with DatetimeIndex, TimedeltaIndex or PeriodIndex, but got an instance of 'RangeIndex'",
     "output_type": "error",
     "traceback": [
      "\u001b[0;31m---------------------------------------------------------------------------\u001b[0m",
      "\u001b[0;31mTypeError\u001b[0m                                 Traceback (most recent call last)",
      "Input \u001b[0;32mIn [105]\u001b[0m, in \u001b[0;36m<cell line: 1>\u001b[0;34m()\u001b[0m\n\u001b[0;32m----> 1\u001b[0m \u001b[43mdf_cab\u001b[49m\u001b[43m[\u001b[49m\u001b[38;5;124;43m'\u001b[39;49m\u001b[38;5;124;43mDate of Travel\u001b[39;49m\u001b[38;5;124;43m'\u001b[39;49m\u001b[43m]\u001b[49m\u001b[38;5;241;43m.\u001b[39;49m\u001b[43mresample\u001b[49m\u001b[43m(\u001b[49m\u001b[38;5;124;43m'\u001b[39;49m\u001b[38;5;124;43mY\u001b[39;49m\u001b[38;5;124;43m'\u001b[39;49m\u001b[43m)\u001b[49m\u001b[38;5;241m.\u001b[39mvalue_counts()\n",
      "File \u001b[0;32m/opt/anaconda3/lib/python3.8/site-packages/pandas/core/generic.py:8369\u001b[0m, in \u001b[0;36mNDFrame.resample\u001b[0;34m(self, rule, axis, closed, label, convention, kind, loffset, base, on, level, origin, offset)\u001b[0m\n\u001b[1;32m   8366\u001b[0m \u001b[38;5;28;01mfrom\u001b[39;00m \u001b[38;5;21;01mpandas\u001b[39;00m\u001b[38;5;21;01m.\u001b[39;00m\u001b[38;5;21;01mcore\u001b[39;00m\u001b[38;5;21;01m.\u001b[39;00m\u001b[38;5;21;01mresample\u001b[39;00m \u001b[38;5;28;01mimport\u001b[39;00m get_resampler\n\u001b[1;32m   8368\u001b[0m axis \u001b[38;5;241m=\u001b[39m \u001b[38;5;28mself\u001b[39m\u001b[38;5;241m.\u001b[39m_get_axis_number(axis)\n\u001b[0;32m-> 8369\u001b[0m \u001b[38;5;28;01mreturn\u001b[39;00m \u001b[43mget_resampler\u001b[49m\u001b[43m(\u001b[49m\n\u001b[1;32m   8370\u001b[0m \u001b[43m    \u001b[49m\u001b[38;5;28;43mself\u001b[39;49m\u001b[43m,\u001b[49m\n\u001b[1;32m   8371\u001b[0m \u001b[43m    \u001b[49m\u001b[43mfreq\u001b[49m\u001b[38;5;241;43m=\u001b[39;49m\u001b[43mrule\u001b[49m\u001b[43m,\u001b[49m\n\u001b[1;32m   8372\u001b[0m \u001b[43m    \u001b[49m\u001b[43mlabel\u001b[49m\u001b[38;5;241;43m=\u001b[39;49m\u001b[43mlabel\u001b[49m\u001b[43m,\u001b[49m\n\u001b[1;32m   8373\u001b[0m \u001b[43m    \u001b[49m\u001b[43mclosed\u001b[49m\u001b[38;5;241;43m=\u001b[39;49m\u001b[43mclosed\u001b[49m\u001b[43m,\u001b[49m\n\u001b[1;32m   8374\u001b[0m \u001b[43m    \u001b[49m\u001b[43maxis\u001b[49m\u001b[38;5;241;43m=\u001b[39;49m\u001b[43maxis\u001b[49m\u001b[43m,\u001b[49m\n\u001b[1;32m   8375\u001b[0m \u001b[43m    \u001b[49m\u001b[43mkind\u001b[49m\u001b[38;5;241;43m=\u001b[39;49m\u001b[43mkind\u001b[49m\u001b[43m,\u001b[49m\n\u001b[1;32m   8376\u001b[0m \u001b[43m    \u001b[49m\u001b[43mloffset\u001b[49m\u001b[38;5;241;43m=\u001b[39;49m\u001b[43mloffset\u001b[49m\u001b[43m,\u001b[49m\n\u001b[1;32m   8377\u001b[0m \u001b[43m    \u001b[49m\u001b[43mconvention\u001b[49m\u001b[38;5;241;43m=\u001b[39;49m\u001b[43mconvention\u001b[49m\u001b[43m,\u001b[49m\n\u001b[1;32m   8378\u001b[0m \u001b[43m    \u001b[49m\u001b[43mbase\u001b[49m\u001b[38;5;241;43m=\u001b[39;49m\u001b[43mbase\u001b[49m\u001b[43m,\u001b[49m\n\u001b[1;32m   8379\u001b[0m \u001b[43m    \u001b[49m\u001b[43mkey\u001b[49m\u001b[38;5;241;43m=\u001b[39;49m\u001b[43mon\u001b[49m\u001b[43m,\u001b[49m\n\u001b[1;32m   8380\u001b[0m \u001b[43m    \u001b[49m\u001b[43mlevel\u001b[49m\u001b[38;5;241;43m=\u001b[39;49m\u001b[43mlevel\u001b[49m\u001b[43m,\u001b[49m\n\u001b[1;32m   8381\u001b[0m \u001b[43m    \u001b[49m\u001b[43morigin\u001b[49m\u001b[38;5;241;43m=\u001b[39;49m\u001b[43morigin\u001b[49m\u001b[43m,\u001b[49m\n\u001b[1;32m   8382\u001b[0m \u001b[43m    \u001b[49m\u001b[43moffset\u001b[49m\u001b[38;5;241;43m=\u001b[39;49m\u001b[43moffset\u001b[49m\u001b[43m,\u001b[49m\n\u001b[1;32m   8383\u001b[0m \u001b[43m\u001b[49m\u001b[43m)\u001b[49m\n",
      "File \u001b[0;32m/opt/anaconda3/lib/python3.8/site-packages/pandas/core/resample.py:1311\u001b[0m, in \u001b[0;36mget_resampler\u001b[0;34m(obj, kind, **kwds)\u001b[0m\n\u001b[1;32m   1307\u001b[0m \u001b[38;5;124;03m\"\"\"\u001b[39;00m\n\u001b[1;32m   1308\u001b[0m \u001b[38;5;124;03mCreate a TimeGrouper and return our resampler.\u001b[39;00m\n\u001b[1;32m   1309\u001b[0m \u001b[38;5;124;03m\"\"\"\u001b[39;00m\n\u001b[1;32m   1310\u001b[0m tg \u001b[38;5;241m=\u001b[39m TimeGrouper(\u001b[38;5;241m*\u001b[39m\u001b[38;5;241m*\u001b[39mkwds)\n\u001b[0;32m-> 1311\u001b[0m \u001b[38;5;28;01mreturn\u001b[39;00m \u001b[43mtg\u001b[49m\u001b[38;5;241;43m.\u001b[39;49m\u001b[43m_get_resampler\u001b[49m\u001b[43m(\u001b[49m\u001b[43mobj\u001b[49m\u001b[43m,\u001b[49m\u001b[43m \u001b[49m\u001b[43mkind\u001b[49m\u001b[38;5;241;43m=\u001b[39;49m\u001b[43mkind\u001b[49m\u001b[43m)\u001b[49m\n",
      "File \u001b[0;32m/opt/anaconda3/lib/python3.8/site-packages/pandas/core/resample.py:1476\u001b[0m, in \u001b[0;36mTimeGrouper._get_resampler\u001b[0;34m(self, obj, kind)\u001b[0m\n\u001b[1;32m   1473\u001b[0m \u001b[38;5;28;01melif\u001b[39;00m \u001b[38;5;28misinstance\u001b[39m(ax, TimedeltaIndex):\n\u001b[1;32m   1474\u001b[0m     \u001b[38;5;28;01mreturn\u001b[39;00m TimedeltaIndexResampler(obj, groupby\u001b[38;5;241m=\u001b[39m\u001b[38;5;28mself\u001b[39m, axis\u001b[38;5;241m=\u001b[39m\u001b[38;5;28mself\u001b[39m\u001b[38;5;241m.\u001b[39maxis)\n\u001b[0;32m-> 1476\u001b[0m \u001b[38;5;28;01mraise\u001b[39;00m \u001b[38;5;167;01mTypeError\u001b[39;00m(\n\u001b[1;32m   1477\u001b[0m     \u001b[38;5;124m\"\u001b[39m\u001b[38;5;124mOnly valid with DatetimeIndex, \u001b[39m\u001b[38;5;124m\"\u001b[39m\n\u001b[1;32m   1478\u001b[0m     \u001b[38;5;124m\"\u001b[39m\u001b[38;5;124mTimedeltaIndex or PeriodIndex, \u001b[39m\u001b[38;5;124m\"\u001b[39m\n\u001b[1;32m   1479\u001b[0m     \u001b[38;5;124mf\u001b[39m\u001b[38;5;124m\"\u001b[39m\u001b[38;5;124mbut got an instance of \u001b[39m\u001b[38;5;124m'\u001b[39m\u001b[38;5;132;01m{\u001b[39;00m\u001b[38;5;28mtype\u001b[39m(ax)\u001b[38;5;241m.\u001b[39m\u001b[38;5;18m__name__\u001b[39m\u001b[38;5;132;01m}\u001b[39;00m\u001b[38;5;124m'\u001b[39m\u001b[38;5;124m\"\u001b[39m\n\u001b[1;32m   1480\u001b[0m )\n",
      "\u001b[0;31mTypeError\u001b[0m: Only valid with DatetimeIndex, TimedeltaIndex or PeriodIndex, but got an instance of 'RangeIndex'"
     ]
    }
   ],
   "source": [
    "df_cab['Date of Travel'].resample('Y').value_counts()"
   ]
  },
  {
   "cell_type": "code",
   "execution_count": 114,
   "id": "267102e9",
   "metadata": {},
   "outputs": [
    {
     "data": {
      "image/png": "[encoded data removed]",
      "text/plain": [
       "<Figure size 432x288 with 1 Axes>"
      ]
     },
     "metadata": {
      "needs_background": "light"
     },
     "output_type": "display_data"
    }
   ],
   "source": [
    "plt.plot(3, 4);"
   ]
  },
  {
   "cell_type": "code",
   "execution_count": null,
   "id": "dd72ce2e",
   "metadata": {},
   "outputs": [],
   "source": []
  }
 ],
 "metadata": {
  "kernelspec": {
   "display_name": "Python 3 (ipykernel)",
   "language": "python",
   "name": "python3"
  },
  "language_info": {
   "codemirror_mode": {
    "name": "ipython",
    "version": 3
   },
   "file_extension": ".py",
   "mimetype": "text/x-python",
   "name": "python",
   "nbconvert_exporter": "python",
   "pygments_lexer": "ipython3",
   "version": "3.8.8"
  },
  "widgets": {
   "application/vnd.jupyter.widget-state+json": {
    "state": {},
    "version_major": 2,
    "version_minor": 0
   }
  }
 },
 "nbformat": 4,
 "nbformat_minor": 5
}
