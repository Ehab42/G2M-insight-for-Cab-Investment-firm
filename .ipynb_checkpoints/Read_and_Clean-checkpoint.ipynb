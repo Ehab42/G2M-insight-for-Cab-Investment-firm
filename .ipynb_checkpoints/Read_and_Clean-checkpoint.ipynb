{
 "cells": [
  {
   "cell_type": "markdown",
   "id": "cec2ebb8-5a07-4b76-87b4-44234c92ce4f",
   "metadata": {},
   "source": [
    "### DataSets Read and Wrangle."
   ]
  },
  {
   "cell_type": "code",
   "execution_count": 1,
   "id": "1a9415ba-eb54-4226-91c3-4142f09b88a4",
   "metadata": {},
   "outputs": [],
   "source": [
    "import numpy as np\n",
    "import pandas as pd\n",
    "import matplotlib.pyplot as plt\n",
    "import seaborn as sns\n",
    "import warnings\n",
    "from datetime import datetime, timedelta\n",
    "warnings.filterwarnings('ignore')"
   ]
  },
  {
   "cell_type": "code",
   "execution_count": 7,
   "id": "bc3e1d23-f3b9-445b-aa4a-87b5c5259c1c",
   "metadata": {},
   "outputs": [],
   "source": [
    "# Cab_Data\n",
    "df_cab = pd.read_csv('./DataSets/Cab_Data.csv')\n",
    "\n",
    "# Convert 'Date of Travel' to the right format\n",
    "def convert_date(n):\n",
    "    start_date = datetime(1899, 12, 30)\n",
    "    current_date = start_date + timedelta(days = int(n))\n",
    "    \n",
    "    return current_date\n",
    "\n",
    "df_cab['Date of Travel'] = df_cab['Date of Travel'].apply(lambda x: convert_date(x))"
   ]
  },
  {
   "cell_type": "code",
   "execution_count": 3,
   "id": "e1f73f31-29ea-4f59-85b2-a712fd6ca702",
   "metadata": {},
   "outputs": [],
   "source": [
    "# City_Data\n",
    "df_city = pd.read_csv('./DataSets/City.csv')\n",
    "\n",
    "# Change the data types\n",
    "def remove_commas(str_num):\n",
    "    return str_num.replace(',', '')\n",
    "\n",
    "df_city['Population'] = df_city['Population'].apply(lambda n: remove_commas(n))\n",
    "df_city['Users'] = df_city['Users'].apply(lambda n: remove_commas(n))\n",
    "\n",
    "\n",
    "df_city['Population'] = df_city['Population'].astype(int)\n",
    "df_city['Users'] = df_city['Users'].astype(int)\n",
    "\n",
    "# Add the percentage of Cab Users in each city\n",
    "df_city['Perc_Users'] = (df_city['Users'] / df_city['Population']) * 100"
   ]
  },
  {
   "cell_type": "code",
   "execution_count": 4,
   "id": "bdef4a2a-4c4e-45ff-adf8-64ec269f8f52",
   "metadata": {},
   "outputs": [],
   "source": [
    "# Customer_Data\n",
    "df_customer = pd.read_csv('./DataSets/Customer_ID.csv')"
   ]
  },
  {
   "cell_type": "code",
   "execution_count": 5,
   "id": "665baa83-7bb9-4693-b4f7-9e221edbfe1f",
   "metadata": {},
   "outputs": [],
   "source": [
    "# Transaction_Data\n",
    "df_transaction = pd.read_csv('./DataSets/Transaction_ID.csv')"
   ]
  },
  {
   "cell_type": "code",
   "execution_count": 6,
   "id": "c6ba6d88-f394-459a-b3e3-aa1adb9a6174",
   "metadata": {},
   "outputs": [],
   "source": [
    "# Holiday_Data\n",
    "df_holidays = pd.read_csv('./DataSets/US Bank holidays.csv',  header=None, index_col=False)\n",
    "df_holidays.drop([0], axis=1, inplace=True)\n",
    "df_holidays.rename({1: 'Date', 2: 'Name'}, axis=1, inplace=True)"
   ]
  }
 ],
 "metadata": {
  "kernelspec": {
   "display_name": "Python 3 (ipykernel)",
   "language": "python",
   "name": "python3"
  },
  "language_info": {
   "codemirror_mode": {
    "name": "ipython",
    "version": 3
   },
   "file_extension": ".py",
   "mimetype": "text/x-python",
   "name": "python",
   "nbconvert_exporter": "python",
   "pygments_lexer": "ipython3",
   "version": "3.8.8"
  },
  "widgets": {
   "application/vnd.jupyter.widget-state+json": {
    "state": {},
    "version_major": 2,
    "version_minor": 0
   }
  }
 },
 "nbformat": 4,
 "nbformat_minor": 5
}
